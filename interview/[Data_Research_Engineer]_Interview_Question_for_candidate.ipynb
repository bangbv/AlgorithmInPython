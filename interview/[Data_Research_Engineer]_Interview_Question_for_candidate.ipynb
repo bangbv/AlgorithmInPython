{
  "nbformat": 4,
  "nbformat_minor": 0,
  "metadata": {
    "colab": {
      "name": "[Data Research Engineer] Interview Question - for candidate.ipynb",
      "provenance": [],
      "collapsed_sections": [],
      "include_colab_link": true
    },
    "kernelspec": {
      "name": "python3",
      "display_name": "Python 3"
    }
  },
  "cells": [
    {
      "cell_type": "markdown",
      "metadata": {
        "id": "view-in-github",
        "colab_type": "text"
      },
      "source": [
        "<a href=\"https://colab.research.google.com/github/bangbv/AlgorithmInPython/blob/master/%5BData_Research_Engineer%5D_Interview_Question_for_candidate.ipynb\" target=\"_parent\"><img src=\"https://colab.research.google.com/assets/colab-badge.svg\" alt=\"Open In Colab\"/></a>"
      ]
    },
    {
      "cell_type": "markdown",
      "metadata": {
        "id": "CWGpREr1XtwJ",
        "colab_type": "text"
      },
      "source": [
        "# Instructions:\n",
        "1. This test is designed to test your basic programming skills and machine learning/mathematics knowledge\n",
        "2. Cite any reference that strenghthens your ideas.\n",
        "3. Make sure your codes runnable.\n",
        "4. You don't need to answer all questions."
      ]
    },
    {
      "cell_type": "code",
      "metadata": {
        "id": "sNU-8Yj1xq65",
        "colab_type": "code",
        "colab": {}
      },
      "source": [
        "import numpy as np\n",
        "import matplotlib.pyplot as plt\n",
        "\n",
        "from sklearn.datasets import make_circles\n",
        "\n",
        "import tensorflow as tf\n",
        "import tensorflow.keras as keras"
      ],
      "execution_count": null,
      "outputs": []
    },
    {
      "cell_type": "markdown",
      "metadata": {
        "id": "vTVtwd-cYdoD",
        "colab_type": "text"
      },
      "source": [
        "# Part 1: Mathematical & Machine Learning Fundations"
      ]
    },
    {
      "cell_type": "markdown",
      "metadata": {
        "id": "gfWn2x4nYs08",
        "colab_type": "text"
      },
      "source": [
        "## Question 1A\n",
        "In almost machine learning or deep learning problems, finding the optimal solution or minimizing the Loss function (L) is what we usually say. In an other term, we try to find an x that can minimize the function L as following: \n",
        "\n",
        "$x: L(x)=0$\n",
        "\n",
        "Please implement a method that can solve an equation $L(x) = |5x^4-4x^3+3x^2-2|=0$ (using this method with $\\epsilon=0.01$).\n",
        "\n",
        "**Hint:** You can solve this by hand or by iteration"
      ]
    },
    {
      "cell_type": "code",
      "metadata": {
        "id": "jGuYX4HbW5-j",
        "colab_type": "code",
        "colab": {}
      },
      "source": [
        "from scipy.optimize import minimize\n",
        "\n",
        "def _gradient(x):\n",
        "    return minimize(_f, 0.01)\n",
        "\n",
        "def _f(x):\n",
        "    f = 5 * x ** 4 - 4 * x ** 3 + 3 * x ** 2 - 2\n",
        "    return f"
      ],
      "execution_count": null,
      "outputs": []
    },
    {
      "cell_type": "markdown",
      "metadata": {
        "id": "GkVZhM43dMzg",
        "colab_type": "text"
      },
      "source": [
        "## Question 1B\n",
        "\n",
        "Please answer these questions by using Tensorflow/Keras/Pytorch. (Not use for/while loop or if function. Do not use brute-force solution)\n",
        "\n",
        "1. Create a $7\\times 7$ tensor with the elements on the border being 1 and all the other elements being 0.\n",
        "2. Create a random matrix with dimension $7\\times 5$. Substract each element by the mean of its corresponding collumn.\n",
        "3. Create two random matrix with dimension $10\\times 7 \\times 3$ and calculate their mean squared error."
      ]
    },
    {
      "cell_type": "code",
      "metadata": {
        "id": "3ploViVXwGZo",
        "colab_type": "code",
        "colab": {
          "base_uri": "https://localhost:8080/",
          "height": 139
        },
        "outputId": "63bd3241-641d-425f-d38d-49d14ec26905"
      },
      "source": [
        "# Question 1\n",
        "import numpy\n",
        "i = 7\n",
        "a = numpy.zeros(shape=(i,i))\n",
        "a[0][:] = 1\n",
        "a[i-1][:] = 1\n",
        "a[:, 0] = 1\n",
        "a[:, i-1] = 1\n",
        "print(a)"
      ],
      "execution_count": null,
      "outputs": [
        {
          "output_type": "stream",
          "text": [
            "[[1. 1. 1. 1. 1. 1. 1.]\n",
            " [1. 0. 0. 0. 0. 0. 1.]\n",
            " [1. 0. 0. 0. 0. 0. 1.]\n",
            " [1. 0. 0. 0. 0. 0. 1.]\n",
            " [1. 0. 0. 0. 0. 0. 1.]\n",
            " [1. 0. 0. 0. 0. 0. 1.]\n",
            " [1. 1. 1. 1. 1. 1. 1.]]\n"
          ],
          "name": "stdout"
        }
      ]
    },
    {
      "cell_type": "code",
      "metadata": {
        "id": "0dWXWxwdwKIJ",
        "colab_type": "code",
        "colab": {
          "base_uri": "https://localhost:8080/",
          "height": 139
        },
        "outputId": "ca165672-c150-4234-e7e6-37bfbc9ee486"
      },
      "source": [
        "# Question 2\n",
        "import numpy as np\n",
        "\n",
        "a = np.random.randint(100, size=(7, 5))\n",
        "print(a - np.mean(a))"
      ],
      "execution_count": null,
      "outputs": [
        {
          "output_type": "stream",
          "text": [
            "[[-20.17142857 -11.17142857  32.82857143  24.82857143   2.82857143]\n",
            " [ -3.17142857  40.82857143  32.82857143 -37.17142857  -8.17142857]\n",
            " [ 31.82857143 -35.17142857  17.82857143  20.82857143  12.82857143]\n",
            " [ 27.82857143 -30.17142857  -1.17142857  -2.17142857 -27.17142857]\n",
            " [-35.17142857  19.82857143  29.82857143 -47.17142857 -10.17142857]\n",
            " [-55.17142857   8.82857143 -14.17142857  16.82857143  -1.17142857]\n",
            " [ 12.82857143   9.82857143  21.82857143 -36.17142857   9.82857143]]\n"
          ],
          "name": "stdout"
        }
      ]
    },
    {
      "cell_type": "code",
      "metadata": {
        "id": "dDYxu5USwLH9",
        "colab_type": "code",
        "colab": {
          "base_uri": "https://localhost:8080/",
          "height": 35
        },
        "outputId": "ac689d97-f10a-4d39-e641-2296b9982dd5"
      },
      "source": [
        "# Question 3\n",
        "import numpy as np\n",
        "\n",
        "a = np.random.randint(100, size=(10, 7, 3))\n",
        "b = np.random.randint(100, size=(10, 7, 3))\n",
        "print(((a - b)**2).mean())"
      ],
      "execution_count": null,
      "outputs": [
        {
          "output_type": "stream",
          "text": [
            "1590.247619047619\n"
          ],
          "name": "stdout"
        }
      ]
    },
    {
      "cell_type": "markdown",
      "metadata": {
        "id": "A9r-4DzjgqOa",
        "colab_type": "text"
      },
      "source": [
        "## Question 1C\n",
        "In traditional classification problem, usually only one label is returned (the label which the model predicts the highest score/probability). However, in real-world data, we often have examples which are associated with multiple categories. E.g. A specific game can be taged as \"Puzzle\" and \"Role-play\".\n",
        "\n",
        "Please propose a cost function to handle the case where multiple labels can be output.\n",
        "\n",
        "**Hint:** The predictions should be a proper probability."
      ]
    },
    {
      "cell_type": "code",
      "metadata": {
        "id": "At0NB5gRhyBY",
        "colab_type": "code",
        "colab": {}
      },
      "source": [
        "def cost_fn(Z):\n",
        "  \"\"\"\n",
        "  @param: Z: the last linear layer value of the network. with dimension batch_size*num_categories\n",
        "  return: the probability for each category with dimension batch_size*num_categories\n",
        "  \"\"\"\n",
        "  return \n",
        "\n",
        "Z = tf.random.uniform(\n",
        "    (10, 5), minval=0, maxval=None, dtype=tf.dtypes.float32, seed=None, name=None\n",
        ")\n",
        "print(cost_fn(Z))"
      ],
      "execution_count": null,
      "outputs": []
    },
    {
      "cell_type": "markdown",
      "metadata": {
        "id": "rF9FRV4IiKPk",
        "colab_type": "text"
      },
      "source": [
        "# Part 2: Feature Transformation\n",
        "\n",
        "\n",
        "In real-world, data can be messy and chaotic. But the truth of matter is, to make the data easier to read and to increase the performance of our model, we can conduct feature engineering. By applying feature engineering, we can reflect features (X) into a solvable space (Z).\n",
        "\n",
        "f(X) -> Z\n",
        "\n",
        "Please use feature engineering to \"perform\" X as Z that we can apply a simple linear model (a line in this case) to classify them.\n",
        "\n",
        "**Hint:** You don't need to build a model to prove that."
      ]
    },
    {
      "cell_type": "code",
      "metadata": {
        "id": "_Pn_Clm0oKn5",
        "colab_type": "code",
        "colab": {
          "base_uri": "https://localhost:8080/",
          "height": 265
        },
        "outputId": "68a05ab6-a079-4f5c-ad0f-dbca45b683e1"
      },
      "source": [
        "# generate 2d classification dataset\n",
        "X, y = make_circles(n_samples=100, noise=0.05)\n",
        "\n",
        "# scatter plot, dots colored by class value\n",
        "fig, ax = plt.subplots()\n",
        "ax.scatter(X[:, 0], X[:, 1], c=y)\n",
        "plt.show()"
      ],
      "execution_count": null,
      "outputs": [
        {
          "output_type": "display_data",
          "data": {
            "image/png": "[encoded data removed]",
            "text/plain": [
              "<Figure size 432x288 with 1 Axes>"
            ]
          },
          "metadata": {
            "tags": [],
            "needs_background": "light"
          }
        }
      ]
    },
    {
      "cell_type": "code",
      "metadata": {
        "id": "ySKm6Og5su6u",
        "colab_type": "code",
        "colab": {}
      },
      "source": [
        "# TODO: draw the pre-processing data\n",
        "def _f(X):\n",
        "    \"\"\"\n",
        "    Transform your X here\n",
        "    \"\"\"\n",
        "    return\n",
        "Z = _f(X)\n",
        "\n",
        "fig, ax = plt.subplots()\n",
        "ax.scatter(Z[:, 0], Z[:, 1], c=y)\n",
        "plt.show()\n"
      ],
      "execution_count": null,
      "outputs": []
    },
    {
      "cell_type": "markdown",
      "metadata": {
        "id": "fFMnRuvEspA0",
        "colab_type": "text"
      },
      "source": [
        "# Part 3: Model"
      ]
    },
    {
      "cell_type": "markdown",
      "metadata": {
        "id": "bgrUhcQmwaz3",
        "colab_type": "text"
      },
      "source": [
        "## Question 3A\n",
        "\n",
        "Build a simple Neural Network model to classify the following data which contains three different labels. You can either implement by using a library such as Tensorflow/Keras/Pytorch. \n",
        "\n",
        "*YOU ARE NOT ALLOWED TO USE PRE-BUILT CLASSIFIERS FROM ANY OTHER LIBRARY (INCLUDING MLP)*\n",
        "\n",
        "\n"
      ]
    },
    {
      "cell_type": "code",
      "metadata": {
        "id": "KPMmJbVCkhAf",
        "colab_type": "code",
        "colab": {
          "base_uri": "https://localhost:8080/",
          "height": 235
        },
        "outputId": "ea2e10c2-d5a9-4179-dab3-87308c705d49"
      },
      "source": [
        "# Number of clusters\n",
        "k = 3\n",
        "\n",
        "# Set three centers, the model should predict similar results\n",
        "center_1 = np.array([1,1])\n",
        "center_2 = np.array([5,5])\n",
        "center_3 = np.array([8,1])\n",
        "\n",
        "# Generate random data and center it to the three centers\n",
        "data_1 = np.random.randn(200, 2) + center_1\n",
        "data_2 = np.random.randn(200,2) + center_2\n",
        "data_3 = np.random.randn(200,2) + center_3\n",
        "\n",
        "# label of the data\n",
        "label_1 = np.ones((200, 1))\n",
        "label_2 = np.ones((200, 1)) * 2\n",
        "label_3 = np.ones((200, 1)) * 3\n",
        "\n",
        "data = np.concatenate((data_1, data_2, data_3), axis = 0)\n",
        "label = np.concatenate((label_1, label_2, label_3), axis = 0)\n",
        "\n",
        "# Plot the data and the label\n",
        "colors = ['r', 'g', 'b']\n",
        "fig, ax = plt.subplots()\n",
        "for i in range(k):\n",
        "        points = np.array([data[j] for j in range(len(data)) if label[j] == i+1])\n",
        "        ax.scatter(points[:, 0], points[:, 1], s=7, c=colors[i])"
      ],
      "execution_count": null,
      "outputs": [
        {
          "output_type": "error",
          "ename": "NameError",
          "evalue": "ignored",
          "traceback": [
            "\u001b[0;31m---------------------------------------------------------------------------\u001b[0m",
            "\u001b[0;31mNameError\u001b[0m                                 Traceback (most recent call last)",
            "\u001b[0;32m<ipython-input-1-b90bbc6298fc>\u001b[0m in \u001b[0;36m<module>\u001b[0;34m()\u001b[0m\n\u001b[1;32m      3\u001b[0m \u001b[0;34m\u001b[0m\u001b[0m\n\u001b[1;32m      4\u001b[0m \u001b[0;31m# Set three centers, the model should predict similar results\u001b[0m\u001b[0;34m\u001b[0m\u001b[0;34m\u001b[0m\u001b[0;34m\u001b[0m\u001b[0m\n\u001b[0;32m----> 5\u001b[0;31m \u001b[0mcenter_1\u001b[0m \u001b[0;34m=\u001b[0m \u001b[0mnp\u001b[0m\u001b[0;34m.\u001b[0m\u001b[0marray\u001b[0m\u001b[0;34m(\u001b[0m\u001b[0;34m[\u001b[0m\u001b[0;36m1\u001b[0m\u001b[0;34m,\u001b[0m\u001b[0;36m1\u001b[0m\u001b[0;34m]\u001b[0m\u001b[0;34m)\u001b[0m\u001b[0;34m\u001b[0m\u001b[0;34m\u001b[0m\u001b[0m\n\u001b[0m\u001b[1;32m      6\u001b[0m \u001b[0mcenter_2\u001b[0m \u001b[0;34m=\u001b[0m \u001b[0mnp\u001b[0m\u001b[0;34m.\u001b[0m\u001b[0marray\u001b[0m\u001b[0;34m(\u001b[0m\u001b[0;34m[\u001b[0m\u001b[0;36m5\u001b[0m\u001b[0;34m,\u001b[0m\u001b[0;36m5\u001b[0m\u001b[0;34m]\u001b[0m\u001b[0;34m)\u001b[0m\u001b[0;34m\u001b[0m\u001b[0;34m\u001b[0m\u001b[0m\n\u001b[1;32m      7\u001b[0m \u001b[0mcenter_3\u001b[0m \u001b[0;34m=\u001b[0m \u001b[0mnp\u001b[0m\u001b[0;34m.\u001b[0m\u001b[0marray\u001b[0m\u001b[0;34m(\u001b[0m\u001b[0;34m[\u001b[0m\u001b[0;36m8\u001b[0m\u001b[0;34m,\u001b[0m\u001b[0;36m1\u001b[0m\u001b[0;34m]\u001b[0m\u001b[0;34m)\u001b[0m\u001b[0;34m\u001b[0m\u001b[0;34m\u001b[0m\u001b[0m\n",
            "\u001b[0;31mNameError\u001b[0m: name 'np' is not defined"
          ]
        }
      ]
    },
    {
      "cell_type": "code",
      "metadata": {
        "id": "q-YJRSNsxnI6",
        "colab_type": "code",
        "colab": {}
      },
      "source": [
        "# TODO: Write your answer here"
      ],
      "execution_count": null,
      "outputs": []
    },
    {
      "cell_type": "markdown",
      "metadata": {
        "id": "Caf-11Ntx-q9",
        "colab_type": "text"
      },
      "source": [
        "## Question 3B\n",
        "\n",
        "Non-linearly separable data is one of the major motivations for neural networks models. In the following example, we generate artificial data in the shape of spirals. In this question, you shall implement the model of your choice using any deep learning package. The objective is to achieve the best test set accuracy (for train/test set, you can use random 70/30 split). "
      ]
    },
    {
      "cell_type": "code",
      "metadata": {
        "id": "z_Jlo012yID9",
        "colab_type": "code",
        "colab": {}
      },
      "source": [
        "#code from https://github.com/Datatouille/pytorch-Deep-Learning-Minicourse\n",
        "def plot_shallow_model(X, y, model, e=.0):\n",
        "    \"\"\"\n",
        "    Plot the model from torch weights.\n",
        "    \"\"\"\n",
        "    \n",
        "    X = X.numpy()\n",
        "    y = y.numpy()\n",
        "    w1 = torch.transpose(model[0].weight.data, 0, 1).numpy()\n",
        "    b1 = model[0].bias.data.numpy()\n",
        "    \n",
        "    h = 0.01\n",
        "\n",
        "    x_min, x_max = (-1.1, 1.1)\n",
        "    y_min, y_max = (-1.1, 1.1)\n",
        "    \n",
        "    xx, yy = np.meshgrid(np.arange(x_min, x_max, h),np.arange(y_min, y_max, h))\n",
        "    Z = np.maximum(0, np.dot(np.c_[xx.ravel(), yy.ravel()], w1) + b1)\n",
        "    Z = np.argmax(Z, axis=1)\n",
        "    Z = Z.reshape(xx.shape)\n",
        "    fig = plt.figure()\n",
        "    plt.contourf(xx, yy, Z, cmap=plt.cm.Spectral, alpha=0.3)\n",
        "    plt.scatter(X[:, 0], X[:, 1], c=y, s=40, cmap=plt.cm.Spectral)\n",
        "    plt.axis((-1.1, 1.1, -1.1, 1.1))\n",
        "    plt.axis('square')\n",
        "\n",
        "def plot_deep_model(X, y, model, e=.0):\n",
        "    \"\"\"\n",
        "    Plot the model from torch weights.\n",
        "    \"\"\"\n",
        "    \n",
        "    X = X.numpy()\n",
        "    y = y.numpy()\n",
        "    w1 = tf.transpose(model.fc1.weight.data, 0, 1).numpy()\n",
        "    b1 = model.fc1.bias.data.numpy()\n",
        "    w2 = tf.transpose(model.fc2.weight.data, 0, 1).numpy()\n",
        "    b2 = model.fc2.bias.data.numpy()\n",
        "    \n",
        "    h = 0.01\n",
        "\n",
        "    x_min, x_max = (-1.1, 1.1)\n",
        "    y_min, y_max = (-1.1, 1.1)\n",
        "    \n",
        "    xx, yy = np.meshgrid(np.arange(x_min, x_max, h),np.arange(y_min, y_max, h))\n",
        "    Z = np.dot(np.maximum(0, np.dot(np.c_[xx.ravel(), yy.ravel()], w1) + b1), w2) + b2\n",
        "    Z = np.argmax(Z, axis=1)\n",
        "    Z = Z.reshape(xx.shape)\n",
        "    fig = plt.figure()\n",
        "    plt.contourf(xx, yy, Z, cmap=plt.cm.Spectral, alpha=0.3)\n",
        "    plt.scatter(X[:, 0], X[:, 1], c=y, s=40, cmap=plt.cm.Spectral)\n",
        "    plt.axis((-1.1, 1.1, -1.1, 1.1))\n",
        "    plt.axis('square')    \n",
        "\n",
        "#code from http://cs231n.github.io/neural-networks-case-study/\n",
        "def spiral_gen(N,D,K):\n",
        "    #N = 100 # number of points per class\n",
        "    #D = 2 # dimensionality\n",
        "    #K = 3 # number of classes\n",
        "    X = np.zeros((N*K,D)) # data matrix (each row = single example)\n",
        "    y = np.zeros(N*K, dtype='uint8') # class labels\n",
        "    for j in range(K):\n",
        "      ix = range(N*j,N*(j+1))\n",
        "      r = np.linspace(0.0,1,N) # radius\n",
        "      t = np.linspace(j*4,(j+1)*4,N) + np.random.randn(N)*0.2 # theta\n",
        "      X[ix] = np.c_[r*np.sin(t), r*np.cos(t)]\n",
        "      y[ix] = j\n",
        "    # lets visualize the data:\n",
        "    plt.scatter(X[:, 0], X[:, 1], c=y, s=40, cmap=plt.cm.Spectral)\n",
        "    plt.show()\n",
        "    return(X,y)"
      ],
      "execution_count": null,
      "outputs": []
    },
    {
      "cell_type": "code",
      "metadata": {
        "id": "Vkgo-EoOySGe",
        "colab_type": "code",
        "colab": {
          "base_uri": "https://localhost:8080/",
          "height": 299
        },
        "outputId": "6008411d-a1bf-4e62-afda-aa1fb590802a"
      },
      "source": [
        "#generate spiral example\n",
        "D = 2 #2 features\n",
        "C = 3 #3 classes\n",
        "N = 3000 #number of samples\n",
        "\n",
        "x, y_true = spiral_gen(int(N/C),D,C)\n",
        "print('Shape of x:',x.shape)\n",
        "print('Shape of y_true:',y_true.shape)"
      ],
      "execution_count": null,
      "outputs": [
        {
          "output_type": "display_data",
          "data": {
            "image/png": "[encoded data removed]",
            "text/plain": [
              "<Figure size 432x288 with 1 Axes>"
            ]
          },
          "metadata": {
            "tags": [],
            "needs_background": "light"
          }
        },
        {
          "output_type": "stream",
          "text": [
            "Shape of x: (3000, 2)\n",
            "Shape of y_true: (3000,)\n"
          ],
          "name": "stdout"
        }
      ]
    },
    {
      "cell_type": "code",
      "metadata": {
        "id": "YXniaYxpypsL",
        "colab_type": "code",
        "colab": {}
      },
      "source": [
        "# TODO: Write your code here\n"
      ],
      "execution_count": null,
      "outputs": []
    }
  ]
}