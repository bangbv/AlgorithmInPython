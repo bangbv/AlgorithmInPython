{
 "cells": [
  {
   "cell_type": "code",
   "execution_count": null,
   "id": "828ae2f8",
   "metadata": {},
   "outputs": [
    {
     "ename": "SyntaxError",
     "evalue": "invalid character '’' (U+2019) (3980710271.py, line 16)",
     "output_type": "error",
     "traceback": [
      "\u001b[0;36m  Cell \u001b[0;32mIn[1], line 16\u001b[0;36m\u001b[0m\n\u001b[0;31m    air_s.plot(label=’original series’)\u001b[0m\n\u001b[0m                     ^\u001b[0m\n\u001b[0;31mSyntaxError\u001b[0m\u001b[0;31m:\u001b[0m invalid character '’' (U+2019)\n"
     ]
    }
   ],
   "source": [
    "from darts.datasets import AirPassengersDataset, MonthlyMilkDataset\n",
    "from darts.dataprocessing.transformers import Scaler\n",
    "from darts.models import TCNModel\n",
    "from darts.utils.likelihood_models import LaplaceLikelihood as LL\n",
    "\n",
    "\n",
    "air = AirPassengersDataset().load()\n",
    "milk = MonthlyMilkDataset().load()\n",
    "scaler_air, scaler_milk = Scaler(), Scaler()\n",
    "air_s = scaler_air.fit_transform(air)\n",
    "milk_s = scaler_milk.fit_transform(milk)\n",
    "model = TCNModel(input_chunk_length=24,output_chunk_length=12,likelihood=LL())\n",
    "model.fit([air_s, milk_s], epochs=100)\n",
    "pred = model.predict(n=48, series=air_s,num_samples=500)\n",
    "\n",
    "air_s.plot(label='original series')\n",
    "pred.plot(low_quantile=.1, high_quantile=.9, label='forecast')"
   ]
  }
 ],
 "metadata": {
  "kernelspec": {
   "display_name": "python311",
   "language": "python",
   "name": "python3"
  },
  "language_info": {
   "codemirror_mode": {
    "name": "ipython",
    "version": 3
   },
   "file_extension": ".py",
   "mimetype": "text/x-python",
   "name": "python",
   "nbconvert_exporter": "python",
   "pygments_lexer": "ipython3",
   "version": "3.11.4"
  }
 },
 "nbformat": 4,
 "nbformat_minor": 5
}
