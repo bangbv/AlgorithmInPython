{
 "cells": [
  {
   "metadata": {},
   "cell_type": "markdown",
   "source": "source https://www.facebook.com/pythonclcoding",
   "id": "a64abde8ffd0ef9d"
  },
  {
   "cell_type": "code",
   "id": "initial_id",
   "metadata": {
    "collapsed": true,
    "ExecuteTime": {
     "end_time": "2025-06-28T07:45:51.063753Z",
     "start_time": "2025-06-28T07:45:51.058429Z"
    }
   },
   "source": [
    "from ase import Atoms\n",
    "from ase.visualize import view"
   ],
   "outputs": [],
   "execution_count": 3
  },
  {
   "metadata": {
    "ExecuteTime": {
     "end_time": "2025-06-28T07:45:51.111389Z",
     "start_time": "2025-06-28T07:45:51.082716Z"
    }
   },
   "cell_type": "code",
   "source": [
    "water = Atoms('H2O', positions=[(0, 0, 0), (0, 0, 1), (1, 0, 0)])\n",
    "view(water)  # This will open a window to visualize the molecule"
   ],
   "id": "2f0d0f159d09b4f0",
   "outputs": [
    {
     "data": {
      "text/plain": [
       "<Popen: returncode: None args: ['/Users/bangbui/anaconda3/envs/python311/bin...>"
      ]
     },
     "execution_count": 4,
     "metadata": {},
     "output_type": "execute_result"
    }
   ],
   "execution_count": 4
  }
 ],
 "metadata": {
  "kernelspec": {
   "display_name": "Python 3",
   "language": "python",
   "name": "python3"
  },
  "language_info": {
   "codemirror_mode": {
    "name": "ipython",
    "version": 2
   },
   "file_extension": ".py",
   "mimetype": "text/x-python",
   "name": "python",
   "nbconvert_exporter": "python",
   "pygments_lexer": "ipython2",
   "version": "2.7.6"
  }
 },
 "nbformat": 4,
 "nbformat_minor": 5
}
