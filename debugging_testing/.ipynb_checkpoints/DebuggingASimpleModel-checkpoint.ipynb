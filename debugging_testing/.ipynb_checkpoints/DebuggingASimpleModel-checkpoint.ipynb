{
 "cells": [
  {
   "cell_type": "markdown",
   "id": "67e60fd3-06fa-4195-bfc6-1bb666ea34f7",
   "metadata": {},
   "source": [
    "Reference: https://colab.research.google.com/github/google/eng-edu/blob/main/ml/testing-debugging/testing-debugging-ml-debugging.ipynb?utm_source=ss-testing-debugging&utm_campaign=colab-external&utm_medium=referral&utm_content=testing-debugging-ml-debugging"
   ]
  },
  {
   "cell_type": "markdown",
   "id": "a68e7836-eeed-48c6-89b9-3a5e1a9e8b50",
   "metadata": {},
   "source": [
    "Create the dataset"
   ]
  },
  {
   "cell_type": "code",
   "execution_count": 2,
   "id": "af3df8a8-b5c1-4259-8ac4-69abed13b589",
   "metadata": {},
   "outputs": [],
   "source": [
    "# Reset environment for a new run\n",
    "%reset -f\n",
    "\n",
    "# Load Libraries\n",
    "from os.path import join # for joining file pathnames\n",
    "import pandas as pd\n",
    "import tensorflow as tf\n",
    "from tensorflow import keras\n",
    "import numpy as np\n",
    "import matplotlib.pyplot as plt\n",
    "\n",
    "# Set Pandas display options\n",
    "pd.options.display.max_rows = 10\n",
    "pd.options.display.float_format = '{:.1f}'.format"
   ]
  },
  {
   "cell_type": "code",
   "execution_count": 6,
   "id": "321b9d93-4df8-4a71-93e3-d20d0f0c3fd0",
   "metadata": {},
   "outputs": [],
   "source": [
    "features = np.array(range(10))\n",
    "#print(\"features 1: \", features)\n",
    "features = features[:, np.newaxis]\n",
    "#print(\"features 2: \", features)\n",
    "# Create labels by adding noise distributed around 0\n",
    "labels = features + np.random.random(size=[10,1]) - 0.5"
   ]
  },
  {
   "cell_type": "code",
   "execution_count": 7,
   "id": "ddb4fa06-fcac-43a1-8a74-bc317401bfdd",
   "metadata": {},
   "outputs": [
    {
     "data": {
      "text/plain": [
       "<matplotlib.collections.PathCollection at 0x7fb9201377d0>"
      ]
     },
     "execution_count": 7,
     "metadata": {},
     "output_type": "execute_result"
    },
    {
     "data": {
      "image/png": "[encoded data removed]",
      "text/plain": [
       "<Figure size 432x288 with 1 Axes>"
      ]
     },
     "metadata": {
      "needs_background": "light"
     },
     "output_type": "display_data"
    }
   ],
   "source": [
    "# Visualize the data\n",
    "plt.scatter(features,labels)"
   ]
  },
  {
   "cell_type": "code",
   "execution_count": 19,
   "id": "9a48cbc8-39e4-460d-811e-aca46b54241d",
   "metadata": {},
   "outputs": [
    {
     "name": "stdout",
     "output_type": "stream",
     "text": [
      "Model: \"sequential_6\"\n",
      "_________________________________________________________________\n",
      "Layer (type)                 Output Shape              Param #   \n",
      "=================================================================\n",
      "dense_6 (Dense)              (None, 1)                 2         \n",
      "=================================================================\n",
      "Total params: 2\n",
      "Trainable params: 2\n",
      "Non-trainable params: 0\n",
      "_________________________________________________________________\n",
      "None\n"
     ]
    }
   ],
   "source": [
    "# Delete any existing assignment to \"model\"\n",
    "model = None\n",
    "\n",
    "# Use a sequential model\n",
    "model = keras.Sequential()\n",
    "\n",
    "# Add a layer with 1 neuron. Use the popular \"tanh\" activation function\n",
    "model.add(keras.layers.Dense(units=1,             # 1 neuron\n",
    "                             activation='linear',   # 'tanh', 'linear'\n",
    "                             input_dim=1))         # number of feature cols=1\n",
    "\n",
    "# Model calculates loss using mean-square error (MSE)\n",
    "# Model trains using Adam optimizer with learning rate = 0.001\n",
    "model.compile(optimizer=tf.optimizers.SGD(0.1),\n",
    "              loss='mse',\n",
    "             )\n",
    "\n",
    "print(model.summary())"
   ]
  },
  {
   "cell_type": "code",
   "execution_count": 25,
   "id": "0b329950-1211-4d71-86bb-d84728cef3e6",
   "metadata": {},
   "outputs": [
    {
     "name": "stdout",
     "output_type": "stream",
     "text": [
      "Epoch 1/30\n",
      "1/1 [==============================] - 0s 3ms/step - loss: 0.0253\n",
      "Epoch 2/30\n",
      "1/1 [==============================] - 0s 2ms/step - loss: 0.0254\n",
      "Epoch 3/30\n",
      "1/1 [==============================] - 0s 2ms/step - loss: 0.0254\n",
      "Epoch 4/30\n",
      "1/1 [==============================] - 0s 2ms/step - loss: 0.0254\n",
      "Epoch 5/30\n",
      "1/1 [==============================] - 0s 2ms/step - loss: 0.0253\n",
      "Epoch 6/30\n",
      "1/1 [==============================] - 0s 2ms/step - loss: 0.0252\n",
      "Epoch 7/30\n",
      "1/1 [==============================] - 0s 2ms/step - loss: 0.0252\n",
      "Epoch 8/30\n",
      "1/1 [==============================] - 0s 2ms/step - loss: 0.0251\n",
      "Epoch 9/30\n",
      "1/1 [==============================] - 0s 2ms/step - loss: 0.0251\n",
      "Epoch 10/30\n",
      "1/1 [==============================] - 0s 2ms/step - loss: 0.0251\n",
      "Epoch 11/30\n",
      "1/1 [==============================] - 0s 3ms/step - loss: 0.0251\n",
      "Epoch 12/30\n",
      "1/1 [==============================] - 0s 3ms/step - loss: 0.0251\n",
      "Epoch 13/30\n",
      "1/1 [==============================] - 0s 3ms/step - loss: 0.0251\n",
      "Epoch 14/30\n",
      "1/1 [==============================] - 0s 2ms/step - loss: 0.0251\n",
      "Epoch 15/30\n",
      "1/1 [==============================] - 0s 3ms/step - loss: 0.0251\n",
      "Epoch 16/30\n",
      "1/1 [==============================] - 0s 2ms/step - loss: 0.0251\n",
      "Epoch 17/30\n",
      "1/1 [==============================] - 0s 3ms/step - loss: 0.0251\n",
      "Epoch 18/30\n",
      "1/1 [==============================] - 0s 2ms/step - loss: 0.0251\n",
      "Epoch 19/30\n",
      "1/1 [==============================] - 0s 3ms/step - loss: 0.0251\n",
      "Epoch 20/30\n",
      "1/1 [==============================] - 0s 3ms/step - loss: 0.0251\n",
      "Epoch 21/30\n",
      "1/1 [==============================] - 0s 3ms/step - loss: 0.0251\n",
      "Epoch 22/30\n",
      "1/1 [==============================] - 0s 3ms/step - loss: 0.0251\n",
      "Epoch 23/30\n",
      "1/1 [==============================] - 0s 3ms/step - loss: 0.0251\n",
      "Epoch 24/30\n",
      "1/1 [==============================] - 0s 3ms/step - loss: 0.0251\n",
      "Epoch 25/30\n",
      "1/1 [==============================] - 0s 3ms/step - loss: 0.0251\n",
      "Epoch 26/30\n",
      "1/1 [==============================] - 0s 2ms/step - loss: 0.0251\n",
      "Epoch 27/30\n",
      "1/1 [==============================] - 0s 2ms/step - loss: 0.0251\n",
      "Epoch 28/30\n",
      "1/1 [==============================] - 0s 2ms/step - loss: 0.0251\n",
      "Epoch 29/30\n",
      "1/1 [==============================] - 0s 2ms/step - loss: 0.0251\n",
      "Epoch 30/30\n",
      "1/1 [==============================] - 0s 2ms/step - loss: 0.0251\n"
     ]
    },
    {
     "data": {
      "text/plain": [
       "Text(0.5, 1.0, 'Loss Curves')"
      ]
     },
     "execution_count": 25,
     "metadata": {},
     "output_type": "execute_result"
    },
    {
     "data": {
      "image/png": "[encoded data removed]",
      "text/plain": [
       "<Figure size 432x288 with 1 Axes>"
      ]
     },
     "metadata": {
      "needs_background": "light"
     },
     "output_type": "display_data"
    }
   ],
   "source": [
    "trainHistory = model.fit(x=features,\n",
    "          y=labels,\n",
    "          epochs=30,    # train for 10 epochs\n",
    "          batch_size=10,# use 10 examples per batch\n",
    "          verbose=1)    # verbose=1 prints progress per epoch\n",
    "# Plot loss curve\n",
    "plt.plot(trainHistory.history['loss'])\n",
    "plt.title('Loss Curves')"
   ]
  },
  {
   "cell_type": "code",
   "execution_count": 26,
   "id": "37548a71-0fec-49f8-bce6-48d069453d87",
   "metadata": {},
   "outputs": [
    {
     "name": "stdout",
     "output_type": "stream",
     "text": [
      "1/1 [==============================] - 0s 76ms/step\n"
     ]
    },
    {
     "data": {
      "text/plain": [
       "<matplotlib.legend.Legend at 0x7fb901c38150>"
      ]
     },
     "execution_count": 26,
     "metadata": {},
     "output_type": "execute_result"
    },
    {
     "data": {
      "image/png": "[encoded data removed]",
      "text/plain": [
       "<Figure size 432x288 with 1 Axes>"
      ]
     },
     "metadata": {
      "needs_background": "light"
     },
     "output_type": "display_data"
    }
   ],
   "source": [
    "# get predictions\n",
    "featuresPred = model.predict(features, verbose=1)\n",
    "# Plot original features and predicted values\n",
    "featuresPred = np.transpose(featuresPred)\n",
    "plt.scatter(range(10), labels, c=\"blue\")\n",
    "plt.scatter(range(10), featuresPred, c=\"red\")\n",
    "plt.legend([\"Original\", \"Predicted\"])"
   ]
  },
  {
   "cell_type": "code",
   "execution_count": null,
   "id": "5cfda192-a121-4a20-b4d6-5692c299e7b1",
   "metadata": {},
   "outputs": [],
   "source": []
  }
 ],
 "metadata": {
  "kernelspec": {
   "display_name": "kernel_1",
   "language": "python",
   "name": "kernel_1"
  },
  "language_info": {
   "codemirror_mode": {
    "name": "ipython",
    "version": 3
   },
   "file_extension": ".py",
   "mimetype": "text/x-python",
   "name": "python",
   "nbconvert_exporter": "python",
   "pygments_lexer": "ipython3",
   "version": "3.7.9"
  }
 },
 "nbformat": 4,
 "nbformat_minor": 5
}
