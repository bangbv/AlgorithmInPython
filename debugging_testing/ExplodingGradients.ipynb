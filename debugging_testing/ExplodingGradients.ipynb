{
 "cells": [
  {
   "cell_type": "markdown",
   "id": "74aec8aa-f9d5-4bb2-823b-a38f565c355a",
   "metadata": {},
   "source": [
    "Reference: https://colab.research.google.com/github/google/eng-edu/blob/main/ml/testing-debugging/testing-debugging-ml-debugging.ipynb?utm_source=ss-testing-debugging&utm_campaign=colab-external&utm_medium=referral&utm_content=testing-debugging-ml-debugging#scrollTo=826oEnhXOi2O"
   ]
  },
  {
   "cell_type": "code",
   "execution_count": 2,
   "id": "962aeb33-8a47-4edf-a38e-0ff46bb0a9b7",
   "metadata": {},
   "outputs": [],
   "source": [
    "# Reset environment for a new run\n",
    "%reset -f\n",
    "\n",
    "# Load Libraries\n",
    "from os.path import join # for joining file pathnames\n",
    "import pandas as pd\n",
    "import tensorflow as tf\n",
    "from tensorflow import keras\n",
    "import numpy as np\n",
    "import matplotlib.pyplot as plt\n",
    "\n",
    "# Set Pandas display options\n",
    "pd.options.display.max_rows = 10\n",
    "pd.options.display.float_format = '{:.1f}'.format"
   ]
  },
  {
   "cell_type": "code",
   "execution_count": 3,
   "id": "8c50c237-6390-492c-907a-bf13593edc5c",
   "metadata": {},
   "outputs": [
    {
     "data": {
      "text/plain": [
       "<matplotlib.collections.PathCollection at 0x7f9244ad1950>"
      ]
     },
     "execution_count": 3,
     "metadata": {},
     "output_type": "execute_result"
    },
    {
     "data": {
      "image/png": "[encoded data removed]",
      "text/plain": [
       "<Figure size 432x288 with 1 Axes>"
      ]
     },
     "metadata": {
      "needs_background": "light"
     },
     "output_type": "display_data"
    }
   ],
   "source": [
    "# create data with large values\n",
    "features = np.array(range(50))\n",
    "# generate labels\n",
    "labels = features + np.random.random(features.shape) - 0.5\n",
    "\n",
    "# Transpose data for input\n",
    "[features, labels] = [features.transpose(), labels.transpose()]\n",
    "\n",
    "plt.scatter(range(len(features)), features)"
   ]
  },
  {
   "cell_type": "code",
   "execution_count": 4,
   "id": "1197b35e-a8a9-449b-98dc-95c12af65ef0",
   "metadata": {},
   "outputs": [
    {
     "name": "stdout",
     "output_type": "stream",
     "text": [
      "Epoch 1/5\n",
      "5/5 [==============================] - 0s 1ms/step - loss: 48636506112.0000\n",
      "Epoch 2/5\n",
      "5/5 [==============================] - 0s 1ms/step - loss: 28180243343956210876416.0000\n",
      "Epoch 3/5\n",
      "5/5 [==============================] - 0s 1ms/step - loss: 14976566408833509145842457484722176.0000\n",
      "Epoch 4/5\n",
      "5/5 [==============================] - 0s 1ms/step - loss: inf                                    \n",
      "Epoch 5/5\n",
      "5/5 [==============================] - 0s 1ms/step - loss: inf\n"
     ]
    },
    {
     "data": {
      "text/plain": [
       "<tensorflow.python.keras.callbacks.History at 0x7f924510c110>"
      ]
     },
     "execution_count": 4,
     "metadata": {},
     "output_type": "execute_result"
    }
   ],
   "source": [
    "# Train on raw data\n",
    "model = None\n",
    "model = keras.Sequential()\n",
    "model.add(keras.layers.Dense(1, input_dim=1, activation='linear'))\n",
    "model.compile(optimizer=keras.optimizers.SGD(0.01), loss='mse')\n",
    "model.fit(features, labels, epochs=5, batch_size=10, verbose=1)"
   ]
  },
  {
   "cell_type": "code",
   "execution_count": null,
   "id": "8e75580c-0820-4cd9-83c4-aa89c828ce75",
   "metadata": {},
   "outputs": [],
   "source": []
  }
 ],
 "metadata": {
  "kernelspec": {
   "display_name": "kernel_1",
   "language": "python",
   "name": "kernel_1"
  },
  "language_info": {
   "codemirror_mode": {
    "name": "ipython",
    "version": 3
   },
   "file_extension": ".py",
   "mimetype": "text/x-python",
   "name": "python",
   "nbconvert_exporter": "python",
   "pygments_lexer": "ipython3",
   "version": "3.7.9"
  }
 },
 "nbformat": 4,
 "nbformat_minor": 5
}
