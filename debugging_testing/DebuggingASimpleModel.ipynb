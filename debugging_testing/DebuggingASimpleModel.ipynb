{
 "cells": [
  {
   "cell_type": "markdown",
   "id": "67e60fd3-06fa-4195-bfc6-1bb666ea34f7",
   "metadata": {},
   "source": [
    "Reference: https://colab.research.google.com/github/google/eng-edu/blob/main/ml/testing-debugging/testing-debugging-ml-debugging.ipynb?utm_source=ss-testing-debugging&utm_campaign=colab-external&utm_medium=referral&utm_content=testing-debugging-ml-debugging"
   ]
  },
  {
   "cell_type": "markdown",
   "id": "a68e7836-eeed-48c6-89b9-3a5e1a9e8b50",
   "metadata": {},
   "source": [
    "Create the dataset"
   ]
  },
  {
   "cell_type": "code",
   "execution_count": 2,
   "id": "af3df8a8-b5c1-4259-8ac4-69abed13b589",
   "metadata": {},
   "outputs": [],
   "source": [
    "# Reset environment for a new run\n",
    "%reset -f\n",
    "\n",
    "# Load Libraries\n",
    "from os.path import join # for joining file pathnames\n",
    "import pandas as pd\n",
    "import tensorflow as tf\n",
    "from tensorflow import keras\n",
    "import numpy as np\n",
    "import matplotlib.pyplot as plt\n",
    "\n",
    "# Set Pandas display options\n",
    "pd.options.display.max_rows = 10\n",
    "pd.options.display.float_format = '{:.1f}'.format"
   ]
  },
  {
   "cell_type": "code",
   "execution_count": 6,
   "id": "321b9d93-4df8-4a71-93e3-d20d0f0c3fd0",
   "metadata": {},
   "outputs": [],
   "source": [
    "features = np.array(range(10))\n",
    "#print(\"features 1: \", features)\n",
    "features = features[:, np.newaxis]\n",
    "#print(\"features 2: \", features)\n",
    "# Create labels by adding noise distributed around 0\n",
    "labels = features + np.random.random(size=[10,1]) - 0.5"
   ]
  },
  {
   "cell_type": "code",
   "execution_count": 7,
   "id": "ddb4fa06-fcac-43a1-8a74-bc317401bfdd",
   "metadata": {},
   "outputs": [
    {
     "data": {
      "text/plain": [
       "<matplotlib.collections.PathCollection at 0x7fb9201377d0>"
      ]
     },
     "execution_count": 7,
     "metadata": {},
     "output_type": "execute_result"
    },
    {
     "data": {
      "image/png": "[encoded data removed]",
      "text/plain": [
       "<Figure size 432x288 with 1 Axes>"
      ]
     },
     "metadata": {
      "needs_background": "light"
     },
     "output_type": "display_data"
    }
   ],
   "source": [
    "# Visualize the data\n",
    "plt.scatter(features,labels)"
   ]
  },
  {
   "cell_type": "code",
   "execution_count": 40,
   "id": "9a48cbc8-39e4-460d-811e-aca46b54241d",
   "metadata": {},
   "outputs": [
    {
     "name": "stdout",
     "output_type": "stream",
     "text": [
      "Model: \"sequential_10\"\n",
      "_________________________________________________________________\n",
      "Layer (type)                 Output Shape              Param #   \n",
      "=================================================================\n",
      "dense_10 (Dense)             (None, 1)                 2         \n",
      "=================================================================\n",
      "Total params: 2\n",
      "Trainable params: 2\n",
      "Non-trainable params: 0\n",
      "_________________________________________________________________\n",
      "None\n"
     ]
    }
   ],
   "source": [
    "# Delete any existing assignment to \"model\"\n",
    "model = None\n",
    "\n",
    "# Use a sequential model\n",
    "model = keras.Sequential()\n",
    "\n",
    "# Add a layer with 1 neuron. Use the popular \"tanh\" activation function\n",
    "model.add(keras.layers.Dense(units=1,             # 1 neuron\n",
    "                             activation='linear',   # 'tanh', 'linear'\n",
    "                             input_dim=1))         # number of feature cols=1\n",
    "\n",
    "# Model calculates loss using mean-square error (MSE)\n",
    "# Model trains using Adam optimizer with learning rate = 0.001\n",
    "model.compile(optimizer=tf.optimizers.SGD(0.1),\n",
    "              loss='mse',\n",
    "             )\n",
    "\n",
    "print(model.summary())"
   ]
  },
  {
   "cell_type": "code",
   "execution_count": 41,
   "id": "0b329950-1211-4d71-86bb-d84728cef3e6",
   "metadata": {},
   "outputs": [
    {
     "name": "stdout",
     "output_type": "stream",
     "text": [
      "Epoch 1/100\n",
      "1/1 [==============================] - 0s 132ms/step - loss: 0.4194\n",
      "Epoch 2/100\n",
      "1/1 [==============================] - 0s 2ms/step - loss: 8.7893\n",
      "Epoch 3/100\n",
      "1/1 [==============================] - 0s 2ms/step - loss: 205.2002\n",
      "Epoch 4/100\n",
      "1/1 [==============================] - 0s 3ms/step - loss: 4812.9995\n",
      "Epoch 5/100\n",
      "1/1 [==============================] - 0s 2ms/step - loss: 112910.9219\n",
      "Epoch 6/100\n",
      "1/1 [==============================] - 0s 2ms/step - loss: 2648862.0000\n",
      "Epoch 7/100\n",
      "1/1 [==============================] - 0s 2ms/step - loss: 62141652.0000\n",
      "Epoch 8/100\n",
      "1/1 [==============================] - 0s 3ms/step - loss: 1457828096.0000\n",
      "Epoch 9/100\n",
      "1/1 [==============================] - 0s 3ms/step - loss: 34200295424.0000\n",
      "Epoch 10/100\n",
      "1/1 [==============================] - 0s 3ms/step - loss: 802330640384.0000\n",
      "Epoch 11/100\n",
      "1/1 [==============================] - 0s 3ms/step - loss: 18822480265216.0000\n",
      "Epoch 12/100\n",
      "1/1 [==============================] - 0s 2ms/step - loss: 441570989965312.0000\n",
      "Epoch 13/100\n",
      "1/1 [==============================] - 0s 3ms/step - loss: 10359145437855744.0000\n",
      "Epoch 14/100\n",
      "1/1 [==============================] - 0s 2ms/step - loss: 243023079402373120.0000\n",
      "Epoch 15/100\n",
      "1/1 [==============================] - 0s 2ms/step - loss: 5701261909378990080.0000\n",
      "Epoch 16/100\n",
      "1/1 [==============================] - 0s 2ms/step - loss: 133750206310020808704.0000\n",
      "Epoch 17/100\n",
      "1/1 [==============================] - 0s 2ms/step - loss: 3137747650906595262464.0000\n",
      "Epoch 18/100\n",
      "1/1 [==============================] - 0s 2ms/step - loss: 73610786470216217919488.0000\n",
      "Epoch 19/100\n",
      "1/1 [==============================] - 0s 2ms/step - loss: 1726890649423626991828992.0000\n",
      "Epoch 20/100\n",
      "1/1 [==============================] - 0s 2ms/step - loss: 40512430351717682624069632.0000\n",
      "Epoch 21/100\n",
      "1/1 [==============================] - 0s 3ms/step - loss: 950411967574042800948248576.0000\n",
      "Epoch 22/100\n",
      "1/1 [==============================] - 0s 3ms/step - loss: 22296431397644335003140620288.0000\n",
      "Epoch 23/100\n",
      "1/1 [==============================] - 0s 2ms/step - loss: 523068956687210641593057935360.0000\n",
      "Epoch 24/100\n",
      "1/1 [==============================] - 0s 2ms/step - loss: 12271069759083955443274996514816.0000\n",
      "Epoch 25/100\n",
      "1/1 [==============================] - 0s 2ms/step - loss: 287876302208104024008813755498496.0000\n",
      "Epoch 26/100\n",
      "1/1 [==============================] - 0s 3ms/step - loss: 6753508226889054609585815706140672.0000\n",
      "Epoch 27/100\n",
      "1/1 [==============================] - 0s 3ms/step - loss: 158435646478112452194975985700962304.0000\n",
      "Epoch 28/100\n",
      "1/1 [==============================] - 0s 2ms/step - loss: 3716861528558738404088913637165498368.0000\n",
      "Epoch 29/100\n",
      "1/1 [==============================] - 0s 2ms/step - loss: inf\n",
      "Epoch 30/100\n",
      "1/1 [==============================] - 0s 3ms/step - loss: inf\n",
      "Epoch 31/100\n",
      "1/1 [==============================] - 0s 3ms/step - loss: inf\n",
      "Epoch 32/100\n",
      "1/1 [==============================] - 0s 2ms/step - loss: inf\n",
      "Epoch 33/100\n",
      "1/1 [==============================] - 0s 3ms/step - loss: inf\n",
      "Epoch 34/100\n",
      "1/1 [==============================] - 0s 3ms/step - loss: inf\n",
      "Epoch 35/100\n",
      "1/1 [==============================] - 0s 3ms/step - loss: inf\n",
      "Epoch 36/100\n",
      "1/1 [==============================] - 0s 2ms/step - loss: inf\n",
      "Epoch 37/100\n",
      "1/1 [==============================] - 0s 3ms/step - loss: inf\n",
      "Epoch 38/100\n",
      "1/1 [==============================] - 0s 3ms/step - loss: inf\n",
      "Epoch 39/100\n",
      "1/1 [==============================] - 0s 2ms/step - loss: inf\n",
      "Epoch 40/100\n",
      "1/1 [==============================] - 0s 2ms/step - loss: inf\n",
      "Epoch 41/100\n",
      "1/1 [==============================] - 0s 2ms/step - loss: inf\n",
      "Epoch 42/100\n",
      "1/1 [==============================] - 0s 3ms/step - loss: inf\n",
      "Epoch 43/100\n",
      "1/1 [==============================] - 0s 3ms/step - loss: inf\n",
      "Epoch 44/100\n",
      "1/1 [==============================] - 0s 2ms/step - loss: inf\n",
      "Epoch 45/100\n",
      "1/1 [==============================] - 0s 2ms/step - loss: inf\n",
      "Epoch 46/100\n",
      "1/1 [==============================] - 0s 2ms/step - loss: inf\n",
      "Epoch 47/100\n",
      "1/1 [==============================] - 0s 3ms/step - loss: inf\n",
      "Epoch 48/100\n",
      "1/1 [==============================] - 0s 2ms/step - loss: inf\n",
      "Epoch 49/100\n",
      "1/1 [==============================] - 0s 2ms/step - loss: inf\n",
      "Epoch 50/100\n",
      "1/1 [==============================] - 0s 2ms/step - loss: inf\n",
      "Epoch 51/100\n",
      "1/1 [==============================] - 0s 2ms/step - loss: inf\n",
      "Epoch 52/100\n",
      "1/1 [==============================] - 0s 2ms/step - loss: inf\n",
      "Epoch 53/100\n",
      "1/1 [==============================] - 0s 3ms/step - loss: inf\n",
      "Epoch 54/100\n",
      "1/1 [==============================] - 0s 3ms/step - loss: inf\n",
      "Epoch 55/100\n",
      "1/1 [==============================] - 0s 4ms/step - loss: inf\n",
      "Epoch 56/100\n",
      "1/1 [==============================] - 0s 4ms/step - loss: inf\n",
      "Epoch 57/100\n",
      "1/1 [==============================] - 0s 6ms/step - loss: inf\n",
      "Epoch 58/100\n",
      "1/1 [==============================] - 0s 3ms/step - loss: nan\n",
      "Epoch 59/100\n",
      "1/1 [==============================] - 0s 6ms/step - loss: nan\n",
      "Epoch 60/100\n",
      "1/1 [==============================] - 0s 5ms/step - loss: nan\n",
      "Epoch 61/100\n",
      "1/1 [==============================] - 0s 6ms/step - loss: nan\n",
      "Epoch 62/100\n",
      "1/1 [==============================] - 0s 5ms/step - loss: nan\n",
      "Epoch 63/100\n",
      "1/1 [==============================] - 0s 9ms/step - loss: nan\n",
      "Epoch 64/100\n",
      "1/1 [==============================] - 0s 4ms/step - loss: nan\n",
      "Epoch 65/100\n",
      "1/1 [==============================] - 0s 4ms/step - loss: nan\n",
      "Epoch 66/100\n",
      "1/1 [==============================] - 0s 7ms/step - loss: nan\n",
      "Epoch 67/100\n",
      "1/1 [==============================] - 0s 5ms/step - loss: nan\n",
      "Epoch 68/100\n",
      "1/1 [==============================] - 0s 3ms/step - loss: nan\n",
      "Epoch 69/100\n",
      "1/1 [==============================] - 0s 3ms/step - loss: nan\n",
      "Epoch 70/100\n",
      "1/1 [==============================] - 0s 3ms/step - loss: nan\n",
      "Epoch 71/100\n",
      "1/1 [==============================] - 0s 4ms/step - loss: nan\n",
      "Epoch 72/100\n",
      "1/1 [==============================] - 0s 5ms/step - loss: nan\n",
      "Epoch 73/100\n",
      "1/1 [==============================] - 0s 4ms/step - loss: nan\n",
      "Epoch 74/100\n",
      "1/1 [==============================] - 0s 5ms/step - loss: nan\n",
      "Epoch 75/100\n",
      "1/1 [==============================] - 0s 2ms/step - loss: nan\n",
      "Epoch 76/100\n",
      "1/1 [==============================] - 0s 3ms/step - loss: nan\n",
      "Epoch 77/100\n",
      "1/1 [==============================] - 0s 4ms/step - loss: nan\n",
      "Epoch 78/100\n",
      "1/1 [==============================] - 0s 4ms/step - loss: nan\n",
      "Epoch 79/100\n",
      "1/1 [==============================] - 0s 6ms/step - loss: nan\n",
      "Epoch 80/100\n",
      "1/1 [==============================] - 0s 3ms/step - loss: nan\n",
      "Epoch 81/100\n",
      "1/1 [==============================] - 0s 5ms/step - loss: nan\n",
      "Epoch 82/100\n",
      "1/1 [==============================] - 0s 3ms/step - loss: nan\n",
      "Epoch 83/100\n",
      "1/1 [==============================] - 0s 4ms/step - loss: nan\n",
      "Epoch 84/100\n",
      "1/1 [==============================] - 0s 4ms/step - loss: nan\n",
      "Epoch 85/100\n",
      "1/1 [==============================] - 0s 4ms/step - loss: nan\n",
      "Epoch 86/100\n",
      "1/1 [==============================] - 0s 3ms/step - loss: nan\n",
      "Epoch 87/100\n",
      "1/1 [==============================] - 0s 5ms/step - loss: nan\n",
      "Epoch 88/100\n",
      "1/1 [==============================] - 0s 6ms/step - loss: nan\n",
      "Epoch 89/100\n",
      "1/1 [==============================] - 0s 2ms/step - loss: nan\n",
      "Epoch 90/100\n",
      "1/1 [==============================] - 0s 2ms/step - loss: nan\n",
      "Epoch 91/100\n",
      "1/1 [==============================] - 0s 3ms/step - loss: nan\n",
      "Epoch 92/100\n",
      "1/1 [==============================] - 0s 3ms/step - loss: nan\n",
      "Epoch 93/100\n",
      "1/1 [==============================] - 0s 2ms/step - loss: nan\n",
      "Epoch 94/100\n",
      "1/1 [==============================] - 0s 3ms/step - loss: nan\n",
      "Epoch 95/100\n",
      "1/1 [==============================] - 0s 3ms/step - loss: nan\n",
      "Epoch 96/100\n",
      "1/1 [==============================] - 0s 2ms/step - loss: nan\n",
      "Epoch 97/100\n",
      "1/1 [==============================] - 0s 2ms/step - loss: nan\n",
      "Epoch 98/100\n",
      "1/1 [==============================] - 0s 3ms/step - loss: nan\n",
      "Epoch 99/100\n",
      "1/1 [==============================] - 0s 3ms/step - loss: nan\n",
      "Epoch 100/100\n",
      "1/1 [==============================] - 0s 3ms/step - loss: nan\n"
     ]
    },
    {
     "data": {
      "text/plain": [
       "Text(0.5, 1.0, 'Loss Curves')"
      ]
     },
     "execution_count": 41,
     "metadata": {},
     "output_type": "execute_result"
    },
    {
     "data": {
      "image/png": "[encoded data removed]",
      "text/plain": [
       "<Figure size 432x288 with 1 Axes>"
      ]
     },
     "metadata": {
      "needs_background": "light"
     },
     "output_type": "display_data"
    }
   ],
   "source": [
    "trainHistory = model.fit(x=features,\n",
    "          y=labels,\n",
    "          epochs=100,    # train for 10 epochs\n",
    "          batch_size=10,# use 10 examples per batch\n",
    "          verbose=1)    # verbose=1 prints progress per epoch\n",
    "# Plot loss curve\n",
    "plt.plot(trainHistory.history['loss'])\n",
    "plt.title('Loss Curves')"
   ]
  },
  {
   "cell_type": "code",
   "execution_count": 36,
   "id": "37548a71-0fec-49f8-bce6-48d069453d87",
   "metadata": {},
   "outputs": [
    {
     "name": "stdout",
     "output_type": "stream",
     "text": [
      "1/1 [==============================] - 0s 31ms/step\n"
     ]
    },
    {
     "data": {
      "text/plain": [
       "<matplotlib.legend.Legend at 0x7fb903c6fa90>"
      ]
     },
     "execution_count": 36,
     "metadata": {},
     "output_type": "execute_result"
    },
    {
     "data": {
      "image/png": "[encoded data removed]",
      "text/plain": [
       "<Figure size 432x288 with 1 Axes>"
      ]
     },
     "metadata": {
      "needs_background": "light"
     },
     "output_type": "display_data"
    }
   ],
   "source": [
    "# get predictions\n",
    "featuresPred = model.predict(features, verbose=1)\n",
    "# Plot original features and predicted values\n",
    "featuresPred = np.transpose(featuresPred)\n",
    "plt.scatter(range(10), labels, c=\"blue\")\n",
    "plt.scatter(range(10), featuresPred, c=\"red\")\n",
    "plt.legend([\"Original\", \"Predicted\"])"
   ]
  },
  {
   "cell_type": "code",
   "execution_count": null,
   "id": "5cfda192-a121-4a20-b4d6-5692c299e7b1",
   "metadata": {},
   "outputs": [],
   "source": []
  }
 ],
 "metadata": {
  "kernelspec": {
   "display_name": "kernel_1",
   "language": "python",
   "name": "kernel_1"
  },
  "language_info": {
   "codemirror_mode": {
    "name": "ipython",
    "version": 3
   },
   "file_extension": ".py",
   "mimetype": "text/x-python",
   "name": "python",
   "nbconvert_exporter": "python",
   "pygments_lexer": "ipython3",
   "version": "3.7.9"
  }
 },
 "nbformat": 4,
 "nbformat_minor": 5
}
