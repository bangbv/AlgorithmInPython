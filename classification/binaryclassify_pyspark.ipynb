{
 "cells": [
  {
   "cell_type": "code",
   "execution_count": null,
   "id": "bc39aab2-388d-4ae0-b559-5409243c1ad7",
   "metadata": {},
   "outputs": [],
   "source": [
    "# project_id = 'project-5400504384186300846'\n",
    "# from google.colab import auth\n",
    "# auth.authenticate_user()\n",
    "!gcloud auth application-default login"
   ]
  },
  {
   "cell_type": "code",
   "execution_count": 2,
   "id": "4fc6c3fd-f2ca-4438-95a0-eb4676d9bd87",
   "metadata": {},
   "outputs": [],
   "source": [
    "import glob, os\n",
    "import pandas as pd, numpy as np\n",
    "import matplotlib.pyplot as plt\n",
    "import seaborn as sns\n",
    "import IPython.display\n",
    "from xgboost import XGBClassifier\n",
    "from sklearn.metrics import confusion_matrix, f1_score, roc_auc_score, precision_score, recall_score\n",
    "\n",
    "import tensorflow as tf\n",
    "import pyspark\n",
    "from pyspark.sql import SparkSession\n",
    "from pyspark.mllib.linalg import SparseVector\n",
    "from google.cloud import bigquery\n",
    "from google.cloud import storage\n",
    "\n",
    "pd.set_option('display.max_columns', 500)\n",
    "pd.set_option('display.width', 2000)\n",
    "pd.set_option('display.max_rows', 500)\n",
    "pd.set_option('display.precision', 4)\n",
    "pd.set_option('display.max_colwidth', 200)"
   ]
  },
  {
   "cell_type": "code",
   "execution_count": 3,
   "id": "443eaae0-7be4-452f-9a01-63bffbfcf525",
   "metadata": {},
   "outputs": [
    {
     "name": "stdout",
     "output_type": "stream",
     "text": [
      "22/01/02 17:34:22 WARN Utils: Your hostname, bangbuis-MacBook-Pro.local resolves to a loopback address: 127.0.0.1; using 192.168.1.4 instead (on interface en0)\n",
      "22/01/02 17:34:22 WARN Utils: Set SPARK_LOCAL_IP if you need to bind to another address\n",
      "Welcome to\n",
      "      ____              __\n",
      "     / __/__  ___ _____/ /__\n",
      "    _\\ \\/ _ \\/ _ `/ __/  '_/\n",
      "   /___/ .__/\\_,_/_/ /_/\\_\\   version 3.2.0\n",
      "      /_/\n",
      "                        \n",
      "Using Scala version 2.12.15, Java HotSpot(TM) 64-Bit Server VM, 1.8.0_261\n",
      "Branch HEAD\n",
      "Compiled by user ubuntu on 2021-10-06T12:46:30Z\n",
      "Revision 5d45a415f3a29898d92380380cfd82bfc7f579ea\n",
      "Url https://github.com/apache/spark\n",
      "Type --help for more information.\n"
     ]
    }
   ],
   "source": [
    "!pyspark --version"
   ]
  },
  {
   "cell_type": "code",
   "execution_count": 4,
   "id": "ec972e9e-33a6-4f0b-b9a7-fadd47ce73d4",
   "metadata": {},
   "outputs": [
    {
     "name": "stderr",
     "output_type": "stream",
     "text": [
      "22/01/02 17:34:23 WARN Utils: Your hostname, bangbuis-MacBook-Pro.local resolves to a loopback address: 127.0.0.1; using 192.168.1.4 instead (on interface en0)\n",
      "22/01/02 17:34:23 WARN Utils: Set SPARK_LOCAL_IP if you need to bind to another address\n",
      "Using Spark's default log4j profile: org/apache/spark/log4j-defaults.properties\n",
      "Setting default log level to \"WARN\".\n",
      "To adjust logging level use sc.setLogLevel(newLevel). For SparkR, use setLogLevel(newLevel).\n",
      "22/01/02 17:34:24 WARN NativeCodeLoader: Unable to load native-hadoop library for your platform... using builtin-java classes where applicable\n",
      "/Users/bangbui/anaconda3/envs/learn_py3/lib/python3.9/site-packages/pyspark/sql/context.py:77: FutureWarning: Deprecated in 3.0.0. Use SparkSession.builder.getOrCreate() instead.\n",
      "  warnings.warn(\n"
     ]
    }
   ],
   "source": [
    "spark = SparkSession.builder.master(\"local[*]\").getOrCreate()\n",
    "sc = spark.sparkContext\n",
    "sql_context = pyspark.SQLContext(sc)"
   ]
  },
  {
   "cell_type": "code",
   "execution_count": 5,
   "id": "26b79782-30e4-403b-9184-eeea6d3fa426",
   "metadata": {},
   "outputs": [
    {
     "name": "stdout",
     "output_type": "stream",
     "text": [
      "CommandException: No URLs matched: gs://momovn-analytics/trang.le4/fraud_promotion_v2/data/train201909.avro\n"
     ]
    }
   ],
   "source": [
    "!gsutil cp gs://momovn-analytics/trang.le4/fraud_promotion_v2/data/train201909.avro /tmp/referralFraud/train201909.avro"
   ]
  },
  {
   "cell_type": "code",
   "execution_count": null,
   "id": "b2708382-963f-4183-be39-62ce09c4c153",
   "metadata": {},
   "outputs": [],
   "source": [
    "!bq --location=US extract --destination_format=AVRO --compression=SNAPPY \\\n",
    "--synchronous_mode=false \\\n",
    "--quiet=true \\\n",
    "--project_id=project-5400504384186300846 \\\n",
    "project-5400504384186300846:team_analytics.MERCHANT_LABEL_ALL_05_08_POPUP_V1_07 \\\n",
    "/tmp/merchant_detection/labels/2021/all_05_08_popup_v1_07/*.avro"
   ]
  }
 ],
 "metadata": {
  "kernelspec": {
   "display_name": "py3_kernel",
   "language": "python",
   "name": "py3_kernel"
  },
  "language_info": {
   "codemirror_mode": {
    "name": "ipython",
    "version": 3
   },
   "file_extension": ".py",
   "mimetype": "text/x-python",
   "name": "python",
   "nbconvert_exporter": "python",
   "pygments_lexer": "ipython3",
   "version": "3.9.7"
  }
 },
 "nbformat": 4,
 "nbformat_minor": 5
}
