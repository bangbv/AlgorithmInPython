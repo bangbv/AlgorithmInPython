{
 "cells": [
  {
   "cell_type": "markdown",
   "id": "093fa47d-a6c7-48fd-aeba-7897609443d2",
   "metadata": {},
   "source": [
    "Tutorial link: https://developers.google.com/machine-learning/crash-course/classification/programming-exercise\n",
    "Colab link: https://colab.research.google.com/github/google/eng-edu/blob/main/ml/cc/exercises/binary_classification.ipynb?utm_source=mlcc&utm_campaign=colab-external&utm_medium=referral&utm_content=binary_classification_tf2-colab&hl=en\n"
   ]
  },
  {
   "cell_type": "code",
   "execution_count": null,
   "id": "ecb2b234-970d-4780-99fa-2bb7b348d9df",
   "metadata": {},
   "outputs": [],
   "source": [
    "#@title Run on TensorFlow 2.x\n",
    "%tensorflow_version 2.x"
   ]
  },
  {
   "cell_type": "code",
   "execution_count": null,
   "id": "0c6b46e0-2be5-4e40-9a9f-d60cde6fd8aa",
   "metadata": {},
   "outputs": [],
   "source": [
    "#@title Load the imports\n",
    "\n",
    "# from __future__ import absolute_import, division, print_function, unicode_literals\n",
    "\n",
    "import numpy as np\n",
    "import pandas as pd\n",
    "import tensorflow as tf\n",
    "from tensorflow.keras import layers\n",
    "from matplotlib import pyplot as plt\n",
    "\n",
    "# The following lines adjust the granularity of reporting.\n",
    "pd.options.display.max_rows = 10\n",
    "pd.options.display.float_format = \"{:.1f}\".format\n",
    "# tf.keras.backend.set_floatx('float32')\n",
    "\n",
    "print(\"Ran the import statements.\")"
   ]
  },
  {
   "cell_type": "code",
   "execution_count": null,
   "id": "cc354bc6-2c1b-4a2c-9c04-8bb1a9a7e802",
   "metadata": {},
   "outputs": [],
   "source": []
  }
 ],
 "metadata": {
  "kernelspec": {
   "display_name": "learn_py",
   "language": "python",
   "name": "learn_py"
  },
  "language_info": {
   "name": ""
  }
 },
 "nbformat": 4,
 "nbformat_minor": 5
}
