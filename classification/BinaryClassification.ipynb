{
 "cells": [
  {
   "cell_type": "markdown",
   "id": "093fa47d-a6c7-48fd-aeba-7897609443d2",
   "metadata": {},
   "source": [
    "Tutorial link: https://developers.google.com/machine-learning/crash-course/classification/programming-exercise\n",
    "\n",
    "Colab link: https://colab.research.google.com/github/google/eng-edu/blob/main/ml/cc/exercises/binary_classification.ipynb?utm_source=mlcc&utm_campaign=colab-external&utm_medium=referral&utm_content=binary_classification_tf2-colab&hl=en\n"
   ]
  },
  {
   "cell_type": "code",
   "execution_count": null,
   "id": "ecb2b234-970d-4780-99fa-2bb7b348d9df",
   "metadata": {},
   "outputs": [],
   "source": [
    "#@title Run on TensorFlow 2.x\n",
    "#%tensorflow_version 2.x"
   ]
  },
  {
   "cell_type": "code",
   "execution_count": 4,
   "id": "0c6b46e0-2be5-4e40-9a9f-d60cde6fd8aa",
   "metadata": {},
   "outputs": [
    {
     "name": "stdout",
     "output_type": "stream",
     "text": [
      "Ran the import statements.\n"
     ]
    }
   ],
   "source": [
    "#@title Load the imports\n",
    "\n",
    "# from __future__ import absolute_import, division, print_function, unicode_literals\n",
    "\n",
    "import numpy as np\n",
    "import pandas as pd\n",
    "import tensorflow as tf\n",
    "from tensorflow.keras import layers\n",
    "from matplotlib import pyplot as plt\n",
    "\n",
    "# The following lines adjust the granularity of reporting.\n",
    "pd.options.display.max_rows = 10\n",
    "pd.options.display.float_format = \"{:.1f}\".format\n",
    "# tf.keras.backend.set_floatx('float32')\n",
    "\n",
    "print(\"Ran the import statements.\")"
   ]
  },
  {
   "cell_type": "code",
   "execution_count": 4,
   "id": "cc354bc6-2c1b-4a2c-9c04-8bb1a9a7e802",
   "metadata": {},
   "outputs": [],
   "source": [
    "# !pip install python-snappy"
   ]
  },
  {
   "cell_type": "markdown",
   "id": "42931adc-2aad-4994-8c86-38d1d5354cfc",
   "metadata": {},
   "source": [
    "# Loading the dataset"
   ]
  },
  {
   "cell_type": "code",
   "execution_count": 5,
   "id": "b5928024-b60f-4c5c-869a-9940bde73730",
   "metadata": {},
   "outputs": [
    {
     "name": "stdout",
     "output_type": "stream",
     "text": [
      "Load dataset done\n"
     ]
    }
   ],
   "source": [
    "train_df = pd.read_csv(\"/Users/bangbui/workspace/AlgorithmInPython/datasets/california_housing_train.csv\")\n",
    "test_df = pd.read_csv(\"/Users/bangbui/workspace/AlgorithmInPython/datasets/california_housing_test.csv\")\n",
    "train_df = train_df.reindex(np.random.permutation(train_df.index)) # shuffle the training set\n",
    "print(\"Load dataset done\")"
   ]
  },
  {
   "cell_type": "code",
   "execution_count": 6,
   "id": "d1bea547-0b02-46bd-998d-ec00e0f6129e",
   "metadata": {},
   "outputs": [
    {
     "data": {
      "text/html": [
       "<div>\n",
       "<style scoped>\n",
       "    .dataframe tbody tr th:only-of-type {\n",
       "        vertical-align: middle;\n",
       "    }\n",
       "\n",
       "    .dataframe tbody tr th {\n",
       "        vertical-align: top;\n",
       "    }\n",
       "\n",
       "    .dataframe thead th {\n",
       "        text-align: right;\n",
       "    }\n",
       "</style>\n",
       "<table border=\"1\" class=\"dataframe\">\n",
       "  <thead>\n",
       "    <tr style=\"text-align: right;\">\n",
       "      <th></th>\n",
       "      <th>longitude</th>\n",
       "      <th>latitude</th>\n",
       "      <th>housing_median_age</th>\n",
       "      <th>total_rooms</th>\n",
       "      <th>total_bedrooms</th>\n",
       "      <th>population</th>\n",
       "      <th>households</th>\n",
       "      <th>median_income</th>\n",
       "      <th>median_house_value</th>\n",
       "    </tr>\n",
       "  </thead>\n",
       "  <tbody>\n",
       "    <tr>\n",
       "      <th>12369</th>\n",
       "      <td>-121.5</td>\n",
       "      <td>39.1</td>\n",
       "      <td>17.0</td>\n",
       "      <td>4251.0</td>\n",
       "      <td>899.0</td>\n",
       "      <td>3265.0</td>\n",
       "      <td>934.0</td>\n",
       "      <td>2.3</td>\n",
       "      <td>65000.0</td>\n",
       "    </tr>\n",
       "    <tr>\n",
       "      <th>11679</th>\n",
       "      <td>-121.3</td>\n",
       "      <td>38.6</td>\n",
       "      <td>36.0</td>\n",
       "      <td>1665.0</td>\n",
       "      <td>293.0</td>\n",
       "      <td>846.0</td>\n",
       "      <td>306.0</td>\n",
       "      <td>3.6</td>\n",
       "      <td>121600.0</td>\n",
       "    </tr>\n",
       "    <tr>\n",
       "      <th>13069</th>\n",
       "      <td>-121.9</td>\n",
       "      <td>37.3</td>\n",
       "      <td>52.0</td>\n",
       "      <td>1170.0</td>\n",
       "      <td>215.0</td>\n",
       "      <td>604.0</td>\n",
       "      <td>207.0</td>\n",
       "      <td>2.7</td>\n",
       "      <td>325900.0</td>\n",
       "    </tr>\n",
       "    <tr>\n",
       "      <th>15160</th>\n",
       "      <td>-122.3</td>\n",
       "      <td>37.5</td>\n",
       "      <td>13.0</td>\n",
       "      <td>1422.0</td>\n",
       "      <td>295.0</td>\n",
       "      <td>395.0</td>\n",
       "      <td>195.0</td>\n",
       "      <td>5.3</td>\n",
       "      <td>327800.0</td>\n",
       "    </tr>\n",
       "    <tr>\n",
       "      <th>1380</th>\n",
       "      <td>-117.2</td>\n",
       "      <td>32.7</td>\n",
       "      <td>52.0</td>\n",
       "      <td>55.0</td>\n",
       "      <td>18.0</td>\n",
       "      <td>65.0</td>\n",
       "      <td>22.0</td>\n",
       "      <td>1.7</td>\n",
       "      <td>112500.0</td>\n",
       "    </tr>\n",
       "  </tbody>\n",
       "</table>\n",
       "</div>"
      ],
      "text/plain": [
       "       longitude  latitude  housing_median_age  total_rooms  total_bedrooms  \\\n",
       "12369     -121.5      39.1                17.0       4251.0           899.0   \n",
       "11679     -121.3      38.6                36.0       1665.0           293.0   \n",
       "13069     -121.9      37.3                52.0       1170.0           215.0   \n",
       "15160     -122.3      37.5                13.0       1422.0           295.0   \n",
       "1380      -117.2      32.7                52.0         55.0            18.0   \n",
       "\n",
       "       population  households  median_income  median_house_value  \n",
       "12369      3265.0       934.0            2.3             65000.0  \n",
       "11679       846.0       306.0            3.6            121600.0  \n",
       "13069       604.0       207.0            2.7            325900.0  \n",
       "15160       395.0       195.0            5.3            327800.0  \n",
       "1380         65.0        22.0            1.7            112500.0  "
      ]
     },
     "execution_count": 6,
     "metadata": {},
     "output_type": "execute_result"
    }
   ],
   "source": [
    "train_df.head()"
   ]
  },
  {
   "cell_type": "markdown",
   "id": "259d9e1d-4333-4b6e-9803-4dc5f7331d84",
   "metadata": {},
   "source": [
    "# Normalize values"
   ]
  },
  {
   "cell_type": "code",
   "execution_count": 7,
   "id": "64ce0f95-14b9-4b38-90f7-a0a338725474",
   "metadata": {},
   "outputs": [
    {
     "data": {
      "text/html": [
       "<div>\n",
       "<style scoped>\n",
       "    .dataframe tbody tr th:only-of-type {\n",
       "        vertical-align: middle;\n",
       "    }\n",
       "\n",
       "    .dataframe tbody tr th {\n",
       "        vertical-align: top;\n",
       "    }\n",
       "\n",
       "    .dataframe thead th {\n",
       "        text-align: right;\n",
       "    }\n",
       "</style>\n",
       "<table border=\"1\" class=\"dataframe\">\n",
       "  <thead>\n",
       "    <tr style=\"text-align: right;\">\n",
       "      <th></th>\n",
       "      <th>longitude</th>\n",
       "      <th>latitude</th>\n",
       "      <th>housing_median_age</th>\n",
       "      <th>total_rooms</th>\n",
       "      <th>total_bedrooms</th>\n",
       "      <th>population</th>\n",
       "      <th>households</th>\n",
       "      <th>median_income</th>\n",
       "      <th>median_house_value</th>\n",
       "    </tr>\n",
       "  </thead>\n",
       "  <tbody>\n",
       "    <tr>\n",
       "      <th>12369</th>\n",
       "      <td>-1.0</td>\n",
       "      <td>1.6</td>\n",
       "      <td>-0.9</td>\n",
       "      <td>0.7</td>\n",
       "      <td>0.9</td>\n",
       "      <td>1.6</td>\n",
       "      <td>1.1</td>\n",
       "      <td>-0.8</td>\n",
       "      <td>-1.2</td>\n",
       "    </tr>\n",
       "    <tr>\n",
       "      <th>11679</th>\n",
       "      <td>-0.9</td>\n",
       "      <td>1.4</td>\n",
       "      <td>0.6</td>\n",
       "      <td>-0.4</td>\n",
       "      <td>-0.6</td>\n",
       "      <td>-0.5</td>\n",
       "      <td>-0.5</td>\n",
       "      <td>-0.2</td>\n",
       "      <td>-0.7</td>\n",
       "    </tr>\n",
       "    <tr>\n",
       "      <th>13069</th>\n",
       "      <td>-1.2</td>\n",
       "      <td>0.8</td>\n",
       "      <td>1.9</td>\n",
       "      <td>-0.7</td>\n",
       "      <td>-0.8</td>\n",
       "      <td>-0.7</td>\n",
       "      <td>-0.8</td>\n",
       "      <td>-0.6</td>\n",
       "      <td>1.0</td>\n",
       "    </tr>\n",
       "    <tr>\n",
       "      <th>15160</th>\n",
       "      <td>-1.3</td>\n",
       "      <td>0.9</td>\n",
       "      <td>-1.2</td>\n",
       "      <td>-0.6</td>\n",
       "      <td>-0.6</td>\n",
       "      <td>-0.9</td>\n",
       "      <td>-0.8</td>\n",
       "      <td>0.8</td>\n",
       "      <td>1.0</td>\n",
       "    </tr>\n",
       "    <tr>\n",
       "      <th>1380</th>\n",
       "      <td>1.2</td>\n",
       "      <td>-1.4</td>\n",
       "      <td>1.9</td>\n",
       "      <td>-1.2</td>\n",
       "      <td>-1.2</td>\n",
       "      <td>-1.2</td>\n",
       "      <td>-1.2</td>\n",
       "      <td>-1.2</td>\n",
       "      <td>-0.8</td>\n",
       "    </tr>\n",
       "  </tbody>\n",
       "</table>\n",
       "</div>"
      ],
      "text/plain": [
       "       longitude  latitude  housing_median_age  total_rooms  total_bedrooms  \\\n",
       "12369       -1.0       1.6                -0.9          0.7             0.9   \n",
       "11679       -0.9       1.4                 0.6         -0.4            -0.6   \n",
       "13069       -1.2       0.8                 1.9         -0.7            -0.8   \n",
       "15160       -1.3       0.9                -1.2         -0.6            -0.6   \n",
       "1380         1.2      -1.4                 1.9         -1.2            -1.2   \n",
       "\n",
       "       population  households  median_income  median_house_value  \n",
       "12369         1.6         1.1           -0.8                -1.2  \n",
       "11679        -0.5        -0.5           -0.2                -0.7  \n",
       "13069        -0.7        -0.8           -0.6                 1.0  \n",
       "15160        -0.9        -0.8            0.8                 1.0  \n",
       "1380         -1.2        -1.2           -1.2                -0.8  "
      ]
     },
     "execution_count": 7,
     "metadata": {},
     "output_type": "execute_result"
    }
   ],
   "source": [
    "# Calculate the Z-scores of each column in the training set and\n",
    "# write those Z-scores into a new pandas DataFrame named train_df_norm.\n",
    "train_df_mean = train_df.mean()\n",
    "train_df_std = train_df.std()\n",
    "train_df_norm = (train_df - train_df_mean)/train_df_std\n",
    "\n",
    "# Examine some of the values of the normalized training set. Notice that most \n",
    "# Z-scores fall between -2 and +2.\n",
    "train_df_norm.head()"
   ]
  },
  {
   "cell_type": "markdown",
   "id": "7f505159-3690-47ad-a752-7f0eed2478ad",
   "metadata": {},
   "source": []
  },
  {
   "cell_type": "code",
   "execution_count": 8,
   "id": "b38d5cf7-e730-44e9-aac8-e58f285bc581",
   "metadata": {},
   "outputs": [],
   "source": [
    "# Calculate the Z-scores of each column in the test set and\n",
    "# write those Z-scores into a new pandas DataFrame named test_df_norm.\n",
    "test_df_mean = test_df.mean()\n",
    "test_df_std  = test_df.std()\n",
    "test_df_norm = (test_df - test_df_mean)/test_df_std"
   ]
  },
  {
   "cell_type": "code",
   "execution_count": 9,
   "id": "8fe2bee4-322d-4baf-b6dc-8449d240af5d",
   "metadata": {},
   "outputs": [
    {
     "data": {
      "text/plain": [
       "12369   0.0\n",
       "11679   0.0\n",
       "13069   1.0\n",
       "15160   1.0\n",
       "1380    0.0\n",
       "         ..\n",
       "4231    0.0\n",
       "2590    1.0\n",
       "11319   0.0\n",
       "12213   0.0\n",
       "10047   0.0\n",
       "Name: median_house_value_is_high, Length: 8000, dtype: float64"
      ]
     },
     "execution_count": 9,
     "metadata": {},
     "output_type": "execute_result"
    }
   ],
   "source": [
    "#@title Double-click for possible solutions.\n",
    "\n",
    "# We arbitrarily set the threshold to 265,000, which is \n",
    "# the 75th percentile for median house values.  Every neighborhood\n",
    "# with a median house price above 265,000 will be labeled 1, \n",
    "# and all other neighborhoods will be labeled 0.\n",
    "\n",
    "threshold = 265000\n",
    "train_df_norm[\"median_house_value_is_high\"] = (train_df[\"median_house_value\"] > threshold).astype(float)\n",
    "test_df_norm[\"median_house_value_is_high\"] = (test_df[\"median_house_value\"] > threshold).astype(float) \n",
    "train_df_norm[\"median_house_value_is_high\"].head(8000)\n",
    "\n",
    "\n",
    "# Alternatively, instead of picking the threshold\n",
    "# based on raw house values, you can work with Z-scores.\n",
    "# For example, the following possible solution uses a Z-score\n",
    "# of +1.0 as the threshold, meaning that no more\n",
    "# than 16% of the values in median_house_value_is_high\n",
    "# will be labeled 1.\n",
    "\n",
    "# threshold_in_Z = 1.0 \n",
    "# train_df_norm[\"median_house_value_is_high\"] = (train_df_norm[\"median_house_value\"] > threshold_in_Z).astype(float)\n",
    "# test_df_norm[\"median_house_value_is_high\"] = (test_df_norm[\"median_house_value\"] > threshold_in_Z).astype(float)\n",
    "\n",
    "# train_df_norm[\"median_house_value_is_high\"].head(5)\n",
    "# print(\"........\")\n",
    "# train_df_norm[\"median_house_value_is_high\"].head()\n"
   ]
  },
  {
   "cell_type": "markdown",
   "id": "970c03db-3b7a-4ac0-946b-b386eb7b5877",
   "metadata": {},
   "source": [
    "# Represent features in feature columns"
   ]
  },
  {
   "cell_type": "code",
   "execution_count": 10,
   "id": "7c8d0c14-8554-403e-8aae-fcf1f3a6b3c5",
   "metadata": {},
   "outputs": [
    {
     "name": "stderr",
     "output_type": "stream",
     "text": [
      "2021-12-12 22:04:58.869452: I tensorflow/core/platform/cpu_feature_guard.cc:151] This TensorFlow binary is optimized with oneAPI Deep Neural Network Library (oneDNN) to use the following CPU instructions in performance-critical operations:  AVX2 AVX512F FMA\n",
      "To enable them in other operations, rebuild TensorFlow with the appropriate compiler flags.\n"
     ]
    },
    {
     "data": {
      "text/plain": [
       "<tf.Tensor: shape=(17000, 2), dtype=float32, numpy=\n",
       "array([[-0.8039058 ,  0.7373278 ],\n",
       "       [-0.15636982, -0.44893953],\n",
       "       [-0.63772446, -0.67600924],\n",
       "       ...,\n",
       "       [ 0.24296848,  0.07033914],\n",
       "       [ 0.49436295, -0.7585801 ],\n",
       "       [-0.32344207,  1.151558  ]], dtype=float32)>"
      ]
     },
     "execution_count": 10,
     "metadata": {},
     "output_type": "execute_result"
    }
   ],
   "source": [
    "# Create an empty list that will eventually hold all created feature columns.\n",
    "feature_columns = []\n",
    "\n",
    "# Create a numerical feature column to represent median_income.\n",
    "median_income = tf.feature_column.numeric_column(\"median_income\")\n",
    "feature_columns.append(median_income)\n",
    "\n",
    "# Create a numerical feature column to represent total_rooms.\n",
    "tr = tf.feature_column.numeric_column(\"total_rooms\")\n",
    "feature_columns.append(tr)\n",
    "\n",
    "# Convert the list of feature columns into a layer that will later be fed into\n",
    "# the model. \n",
    "feature_layer = layers.DenseFeatures(feature_columns)\n",
    "\n",
    "# Print the first 3 and last 3 rows of the feature_layer's output when applied\n",
    "# to train_df_norm:\n",
    "feature_layer(dict(train_df_norm))"
   ]
  },
  {
   "cell_type": "markdown",
   "id": "c6cd33b0-c82e-4163-8f3d-da8fca230ac8",
   "metadata": {},
   "source": [
    "# Train function"
   ]
  },
  {
   "cell_type": "code",
   "execution_count": 11,
   "id": "8d21a7c1-9c45-40bb-8a30-ce476fe1efc1",
   "metadata": {},
   "outputs": [
    {
     "name": "stdout",
     "output_type": "stream",
     "text": [
      "Defined the create_model and train_model functions.\n"
     ]
    }
   ],
   "source": [
    "#@title Define the functions that create and train a model.\n",
    "def create_model(my_learning_rate, feature_layer, my_metrics):\n",
    "  \"\"\"Create and compile a simple classification model.\"\"\"\n",
    "  # Most simple tf.keras models are sequential.\n",
    "  model = tf.keras.models.Sequential()\n",
    "\n",
    "  # Add the feature layer (the list of features and how they are represented)\n",
    "  # to the model.\n",
    "  model.add(feature_layer)\n",
    "\n",
    "  # Funnel the regression value through a sigmoid function.\n",
    "  model.add(tf.keras.layers.Dense(units=1, input_shape=(1,),\n",
    "                                  activation=tf.sigmoid),)\n",
    "\n",
    "  # Call the compile method to construct the layers into a model that\n",
    "  # TensorFlow can execute.  Notice that we're using a different loss\n",
    "  # function for classification than for regression.    \n",
    "  model.compile(optimizer=tf.keras.optimizers.RMSprop(lr=my_learning_rate),                                                   \n",
    "                loss=tf.keras.losses.BinaryCrossentropy(),\n",
    "                metrics=my_metrics)\n",
    "\n",
    "  return model        \n",
    "\n",
    "\n",
    "def train_model(model, dataset, epochs, label_name,\n",
    "                batch_size=None, shuffle=True):\n",
    "  \"\"\"Feed a dataset into the model in order to train it.\"\"\"\n",
    "\n",
    "  # The x parameter of tf.keras.Model.fit can be a list of arrays, where\n",
    "  # each array contains the data for one feature.  Here, we're passing\n",
    "  # every column in the dataset. Note that the feature_layer will filter\n",
    "  # away most of those columns, leaving only the desired columns and their\n",
    "  # representations as features.\n",
    "  features = {name:np.array(value) for name, value in dataset.items()}\n",
    "  # pop function removes the element with the specified key\n",
    "  label = np.array(features.pop(label_name))\n",
    "  print(\"features train:\")\n",
    "  print(features.keys())\n",
    "  history = model.fit(x=features, y=label, batch_size=batch_size,\n",
    "                      epochs=epochs, shuffle=shuffle)\n",
    "  \n",
    "  # The list of epochs is stored separately from the rest of history.\n",
    "  epochs = history.epoch\n",
    "\n",
    "  # Isolate the classification metric for each epoch.\n",
    "  hist = pd.DataFrame(history.history)\n",
    "\n",
    "  return epochs, hist  \n",
    "\n",
    "print(\"Defined the create_model and train_model functions.\")   "
   ]
  },
  {
   "cell_type": "code",
   "execution_count": 12,
   "id": "7deced71-74cf-4b8d-96c4-5898a63dbccf",
   "metadata": {},
   "outputs": [
    {
     "name": "stdout",
     "output_type": "stream",
     "text": [
      "Defined the plot_curve function.\n"
     ]
    }
   ],
   "source": [
    "#@title Define the plotting function.\n",
    "def plot_curve(epochs, hist, list_of_metrics):\n",
    "  \"\"\"Plot a curve of one or more classification metrics vs. epoch.\"\"\"  \n",
    "  # list_of_metrics should be one of the names shown in:\n",
    "  # https://www.tensorflow.org/tutorials/structured_data/imbalanced_data#define_the_model_and_metrics  \n",
    "\n",
    "  plt.figure()\n",
    "  plt.xlabel(\"Epoch\")\n",
    "  plt.ylabel(\"Value\")\n",
    "\n",
    "  for m in list_of_metrics:\n",
    "    x = hist[m]\n",
    "    plt.plot(epochs[1:], x[1:], label=m)\n",
    "\n",
    "  plt.legend()\n",
    "\n",
    "print(\"Defined the plot_curve function.\")"
   ]
  },
  {
   "cell_type": "markdown",
   "id": "c71c18bc-cec0-4463-8da1-8fe9d3263120",
   "metadata": {},
   "source": [
    "# Training step"
   ]
  },
  {
   "cell_type": "code",
   "execution_count": 13,
   "id": "bb327d38-91aa-491e-bf1f-9cb3df20dabb",
   "metadata": {},
   "outputs": [
    {
     "name": "stdout",
     "output_type": "stream",
     "text": [
      "features:\n",
      "Index(['longitude', 'latitude', 'housing_median_age', 'total_rooms',\n",
      "       'total_bedrooms', 'population', 'households', 'median_income',\n",
      "       'median_house_value', 'median_house_value_is_high'],\n",
      "      dtype='object')\n",
      "features train:\n",
      "dict_keys(['longitude', 'latitude', 'housing_median_age', 'total_rooms', 'total_bedrooms', 'population', 'households', 'median_income', 'median_house_value'])\n",
      "Epoch 1/20\n",
      "WARNING:tensorflow:Layers in a Sequential model should only have a single input tensor, but we receive a <class 'dict'> input: {'longitude': <tf.Tensor 'IteratorGetNext:3' shape=(100,) dtype=float32>, 'latitude': <tf.Tensor 'IteratorGetNext:2' shape=(100,) dtype=float32>, 'housing_median_age': <tf.Tensor 'IteratorGetNext:1' shape=(100,) dtype=float32>, 'total_rooms': <tf.Tensor 'IteratorGetNext:8' shape=(100,) dtype=float32>, 'total_bedrooms': <tf.Tensor 'IteratorGetNext:7' shape=(100,) dtype=float32>, 'population': <tf.Tensor 'IteratorGetNext:6' shape=(100,) dtype=float32>, 'households': <tf.Tensor 'IteratorGetNext:0' shape=(100,) dtype=float32>, 'median_income': <tf.Tensor 'IteratorGetNext:5' shape=(100,) dtype=float32>, 'median_house_value': <tf.Tensor 'IteratorGetNext:4' shape=(100,) dtype=float32>}\n",
      "Consider rewriting this model with the Functional API.\n"
     ]
    },
    {
     "name": "stderr",
     "output_type": "stream",
     "text": [
      "The `lr` argument is deprecated, use `learning_rate` instead.\n"
     ]
    },
    {
     "name": "stdout",
     "output_type": "stream",
     "text": [
      "WARNING:tensorflow:Layers in a Sequential model should only have a single input tensor, but we receive a <class 'dict'> input: {'longitude': <tf.Tensor 'IteratorGetNext:3' shape=(100,) dtype=float32>, 'latitude': <tf.Tensor 'IteratorGetNext:2' shape=(100,) dtype=float32>, 'housing_median_age': <tf.Tensor 'IteratorGetNext:1' shape=(100,) dtype=float32>, 'total_rooms': <tf.Tensor 'IteratorGetNext:8' shape=(100,) dtype=float32>, 'total_bedrooms': <tf.Tensor 'IteratorGetNext:7' shape=(100,) dtype=float32>, 'population': <tf.Tensor 'IteratorGetNext:6' shape=(100,) dtype=float32>, 'households': <tf.Tensor 'IteratorGetNext:0' shape=(100,) dtype=float32>, 'median_income': <tf.Tensor 'IteratorGetNext:5' shape=(100,) dtype=float32>, 'median_house_value': <tf.Tensor 'IteratorGetNext:4' shape=(100,) dtype=float32>}\n",
      "Consider rewriting this model with the Functional API.\n",
      "170/170 [==============================] - 0s 847us/step - loss: 0.5518 - accuracy: 0.5684\n",
      "Epoch 2/20\n",
      "170/170 [==============================] - 0s 816us/step - loss: 0.5044 - accuracy: 0.6354\n",
      "Epoch 3/20\n",
      "170/170 [==============================] - 0s 944us/step - loss: 0.4703 - accuracy: 0.6822\n",
      "Epoch 4/20\n",
      "170/170 [==============================] - 0s 1ms/step - loss: 0.4454 - accuracy: 0.7201\n",
      "Epoch 5/20\n",
      "170/170 [==============================] - 0s 994us/step - loss: 0.4276 - accuracy: 0.7435\n",
      "Epoch 6/20\n",
      "170/170 [==============================] - 0s 1ms/step - loss: 0.4147 - accuracy: 0.7667\n",
      "Epoch 7/20\n",
      "170/170 [==============================] - 0s 914us/step - loss: 0.4063 - accuracy: 0.7822\n",
      "Epoch 8/20\n",
      "170/170 [==============================] - 0s 863us/step - loss: 0.4013 - accuracy: 0.7939\n",
      "Epoch 9/20\n",
      "170/170 [==============================] - 0s 846us/step - loss: 0.3987 - accuracy: 0.8019\n",
      "Epoch 10/20\n",
      "170/170 [==============================] - 0s 919us/step - loss: 0.3976 - accuracy: 0.8060\n",
      "Epoch 11/20\n",
      "170/170 [==============================] - 0s 880us/step - loss: 0.3971 - accuracy: 0.8071\n",
      "Epoch 12/20\n",
      "170/170 [==============================] - 0s 851us/step - loss: 0.3968 - accuracy: 0.8076\n",
      "Epoch 13/20\n",
      "170/170 [==============================] - 0s 863us/step - loss: 0.3967 - accuracy: 0.8081\n",
      "Epoch 14/20\n",
      "170/170 [==============================] - 0s 881us/step - loss: 0.3967 - accuracy: 0.8084\n",
      "Epoch 15/20\n",
      "170/170 [==============================] - 0s 986us/step - loss: 0.3966 - accuracy: 0.8091\n",
      "Epoch 16/20\n",
      "170/170 [==============================] - 0s 980us/step - loss: 0.3966 - accuracy: 0.8094\n",
      "Epoch 17/20\n",
      "170/170 [==============================] - 0s 989us/step - loss: 0.3966 - accuracy: 0.8091\n",
      "Epoch 18/20\n",
      "170/170 [==============================] - 0s 978us/step - loss: 0.3966 - accuracy: 0.8093\n",
      "Epoch 19/20\n",
      "170/170 [==============================] - 0s 850us/step - loss: 0.3966 - accuracy: 0.8091\n",
      "Epoch 20/20\n",
      "170/170 [==============================] - 0s 997us/step - loss: 0.3966 - accuracy: 0.8089\n"
     ]
    },
    {
     "data": {
      "image/png": "[encoded data removed]",
      "text/plain": [
       "<Figure size 432x288 with 1 Axes>"
      ]
     },
     "metadata": {
      "needs_background": "light"
     },
     "output_type": "display_data"
    }
   ],
   "source": [
    "# The following variables are the hyperparameters.\n",
    "learning_rate = 0.001\n",
    "epochs = 20\n",
    "batch_size = 100\n",
    "label_name = \"median_house_value_is_high\"\n",
    "classification_threshold = 0.35\n",
    "\n",
    "# Establish the metrics the model will measure.\n",
    "METRICS = [\n",
    "           tf.keras.metrics.BinaryAccuracy(name='accuracy', \n",
    "                                           threshold=classification_threshold),\n",
    "          ]\n",
    "\n",
    "print(\"features:\")\n",
    "print(train_df_norm.keys())\n",
    "# Establish the model's topography.\n",
    "my_model = create_model(learning_rate, feature_layer, METRICS)\n",
    "\n",
    "# Train the model on the training set.\n",
    "epochs, hist = train_model(my_model, train_df_norm, epochs, \n",
    "                           label_name, batch_size)\n",
    "\n",
    "# Plot a graph of the metric(s) vs. epochs.\n",
    "list_of_metrics_to_plot = ['accuracy'] \n",
    "\n",
    "plot_curve(epochs, hist, list_of_metrics_to_plot)"
   ]
  },
  {
   "cell_type": "code",
   "execution_count": 14,
   "id": "e293c856-4457-41d2-bd35-fea9ac9ad0f9",
   "metadata": {},
   "outputs": [
    {
     "name": "stdout",
     "output_type": "stream",
     "text": [
      "user features:\n",
      "{'longitude': array([-1.2335231 ,  0.64623618,  0.89185805, ..., -0.05554062,\n",
      "        1.23773376, -0.02045178]), 'latitude': array([ 0.81449726, -0.64582321, -0.87121029, ...,  0.31207189,\n",
      "       -0.72095223, -0.57069418]), 'housing_median_age': array([-0.14697532,  1.1273772 , -0.14697532, ..., -1.50097488,\n",
      "        0.8884361 ,  1.04773017]), 'total_rooms': array([ 0.59631903, -0.50546578,  0.45900185, ..., -0.76247159,\n",
      "       -1.16143367, -0.38716888]), 'total_bedrooms': array([ 0.31528439, -0.52916722, -0.05521575, ..., -0.79140433,\n",
      "       -1.24129735, -0.64224194]), 'population': array([ 0.1302239 , -0.57619979,  0.07879471, ..., -0.68876181,\n",
      "       -1.31658616, -0.63054007]), 'households': array([ 0.31768141, -0.58264578,  0.0139236 , ..., -0.73862952,\n",
      "       -1.30236022, -0.62916725]), 'median_income': array([ 1.51049365, -0.11230546,  1.07097096, ..., -0.81842125,\n",
      "       -0.28927927,  2.56322358]), 'median_house_value': array([ 1.22749389, -0.25942677,  0.57155148, ..., -1.271629  ,\n",
      "       -0.38318949,  2.60038488]), 'median_house_value_is_high': array([1., 0., 1., ..., 0., 0., 1.])}\n",
      "label:\n",
      "[1. 0. 1. ... 0. 0. 1.]\n",
      "Evaluate\n",
      "WARNING:tensorflow:Layers in a Sequential model should only have a single input tensor, but we receive a <class 'dict'> input: {'longitude': <tf.Tensor 'IteratorGetNext:3' shape=(100,) dtype=float32>, 'latitude': <tf.Tensor 'IteratorGetNext:2' shape=(100,) dtype=float32>, 'housing_median_age': <tf.Tensor 'IteratorGetNext:1' shape=(100,) dtype=float32>, 'total_rooms': <tf.Tensor 'IteratorGetNext:8' shape=(100,) dtype=float32>, 'total_bedrooms': <tf.Tensor 'IteratorGetNext:7' shape=(100,) dtype=float32>, 'population': <tf.Tensor 'IteratorGetNext:6' shape=(100,) dtype=float32>, 'households': <tf.Tensor 'IteratorGetNext:0' shape=(100,) dtype=float32>, 'median_income': <tf.Tensor 'IteratorGetNext:5' shape=(100,) dtype=float32>, 'median_house_value': <tf.Tensor 'IteratorGetNext:4' shape=(100,) dtype=float32>}\n",
      "Consider rewriting this model with the Functional API.\n",
      "30/30 [==============================] - 0s 1ms/step - loss: 0.4069 - accuracy: 0.8003\n"
     ]
    },
    {
     "data": {
      "text/plain": [
       "[0.4068776071071625, 0.8003333210945129]"
      ]
     },
     "execution_count": 14,
     "metadata": {},
     "output_type": "execute_result"
    }
   ],
   "source": [
    "features = {name:np.array(value) for name, value in test_df_norm.items()}\n",
    "print(\"user features:\")\n",
    "print(features)\n",
    "label = np.array(features.pop(label_name))\n",
    "print(\"label:\")\n",
    "print(label)\n",
    "\n",
    "print(\"Evaluate\")\n",
    "my_model.evaluate(x = features, y = label, batch_size=batch_size)"
   ]
  },
  {
   "cell_type": "code",
   "execution_count": 17,
   "id": "004ff8cf-8c9e-4b63-badb-926277481dba",
   "metadata": {},
   "outputs": [],
   "source": [
    "#@title Double-click for a possible answer to Task 2.\n",
    "\n",
    "# A perfect model would make 100% accurate predictions.\n",
    "# Our model makes 80% accurate predictions. 80% sounds\n",
    "# good, but note that a model that always guesses \n",
    "# \"median_house_value_is_high is False\" would be 75% \n",
    "# accurate. "
   ]
  },
  {
   "cell_type": "markdown",
   "id": "81e2f694-ae2f-4104-a5be-eb47d051bd6e",
   "metadata": {},
   "source": [
    "# Add precission and recall metrics"
   ]
  },
  {
   "cell_type": "code",
   "execution_count": 20,
   "id": "1fee0ebe-e853-4a36-b00e-4dc6e43245a7",
   "metadata": {},
   "outputs": [
    {
     "name": "stdout",
     "output_type": "stream",
     "text": [
      "Epoch 1/20\n",
      "WARNING:tensorflow:Layers in a Sequential model should only have a single input tensor, but we receive a <class 'dict'> input: {'longitude': <tf.Tensor 'IteratorGetNext:3' shape=(100,) dtype=float32>, 'latitude': <tf.Tensor 'IteratorGetNext:2' shape=(100,) dtype=float32>, 'housing_median_age': <tf.Tensor 'IteratorGetNext:1' shape=(100,) dtype=float32>, 'total_rooms': <tf.Tensor 'IteratorGetNext:8' shape=(100,) dtype=float32>, 'total_bedrooms': <tf.Tensor 'IteratorGetNext:7' shape=(100,) dtype=float32>, 'population': <tf.Tensor 'IteratorGetNext:6' shape=(100,) dtype=float32>, 'households': <tf.Tensor 'IteratorGetNext:0' shape=(100,) dtype=float32>, 'median_income': <tf.Tensor 'IteratorGetNext:5' shape=(100,) dtype=float32>, 'median_house_value': <tf.Tensor 'IteratorGetNext:4' shape=(100,) dtype=float32>}\n",
      "Consider rewriting this model with the Functional API.\n"
     ]
    },
    {
     "name": "stderr",
     "output_type": "stream",
     "text": [
      "/Users/bangbui/anaconda3/envs/learn_py3/lib/python3.9/site-packages/keras/optimizer_v2/rmsprop.py:130: UserWarning: The `lr` argument is deprecated, use `learning_rate` instead.\n",
      "  super(RMSprop, self).__init__(name, **kwargs)\n"
     ]
    },
    {
     "name": "stdout",
     "output_type": "stream",
     "text": [
      "WARNING:tensorflow:Layers in a Sequential model should only have a single input tensor, but we receive a <class 'dict'> input: {'longitude': <tf.Tensor 'IteratorGetNext:3' shape=(100,) dtype=float32>, 'latitude': <tf.Tensor 'IteratorGetNext:2' shape=(100,) dtype=float32>, 'housing_median_age': <tf.Tensor 'IteratorGetNext:1' shape=(100,) dtype=float32>, 'total_rooms': <tf.Tensor 'IteratorGetNext:8' shape=(100,) dtype=float32>, 'total_bedrooms': <tf.Tensor 'IteratorGetNext:7' shape=(100,) dtype=float32>, 'population': <tf.Tensor 'IteratorGetNext:6' shape=(100,) dtype=float32>, 'households': <tf.Tensor 'IteratorGetNext:0' shape=(100,) dtype=float32>, 'median_income': <tf.Tensor 'IteratorGetNext:5' shape=(100,) dtype=float32>, 'median_house_value': <tf.Tensor 'IteratorGetNext:4' shape=(100,) dtype=float32>}\n",
      "Consider rewriting this model with the Functional API.\n",
      "170/170 [==============================] - 1s 1ms/step - loss: 0.6255 - accuracy: 0.6930 - precision: 0.4245 - recall: 0.4245\n",
      "Epoch 2/20\n",
      "170/170 [==============================] - 0s 1ms/step - loss: 0.5524 - accuracy: 0.7709 - precision: 0.5377 - recall: 0.5377\n",
      "Epoch 3/20\n",
      "170/170 [==============================] - 0s 2ms/step - loss: 0.4976 - accuracy: 0.8042 - precision: 0.6186 - recall: 0.6186\n",
      "Epoch 4/20\n",
      "170/170 [==============================] - 0s 1ms/step - loss: 0.4583 - accuracy: 0.8195 - precision: 0.6696 - recall: 0.6696\n",
      "Epoch 5/20\n",
      "170/170 [==============================] - 0s 1ms/step - loss: 0.4328 - accuracy: 0.8271 - precision: 0.7030 - recall: 0.7030\n",
      "Epoch 6/20\n",
      "170/170 [==============================] - 0s 1ms/step - loss: 0.4170 - accuracy: 0.8326 - precision: 0.7319 - recall: 0.7319\n",
      "Epoch 7/20\n",
      "170/170 [==============================] - 0s 2ms/step - loss: 0.4074 - accuracy: 0.8330 - precision: 0.7486 - recall: 0.7486\n",
      "Epoch 8/20\n",
      "170/170 [==============================] - 0s 1ms/step - loss: 0.4021 - accuracy: 0.8342 - precision: 0.7636 - recall: 0.7636\n",
      "Epoch 9/20\n",
      "170/170 [==============================] - 0s 1ms/step - loss: 0.3992 - accuracy: 0.8356 - precision: 0.7763 - recall: 0.7763\n",
      "Epoch 10/20\n",
      "170/170 [==============================] - 0s 1ms/step - loss: 0.3978 - accuracy: 0.8361 - precision: 0.7832 - recall: 0.7832\n",
      "Epoch 11/20\n",
      "170/170 [==============================] - 0s 1ms/step - loss: 0.3972 - accuracy: 0.8362 - precision: 0.7904 - recall: 0.7904\n",
      "Epoch 12/20\n",
      "170/170 [==============================] - 0s 964us/step - loss: 0.3969 - accuracy: 0.8365 - precision: 0.7898 - recall: 0.7898\n",
      "Epoch 13/20\n",
      "170/170 [==============================] - 0s 943us/step - loss: 0.3968 - accuracy: 0.8363 - precision: 0.7889 - recall: 0.7889\n",
      "Epoch 14/20\n",
      "170/170 [==============================] - 0s 963us/step - loss: 0.3967 - accuracy: 0.8355 - precision: 0.7851 - recall: 0.7851\n",
      "Epoch 15/20\n",
      "170/170 [==============================] - 0s 948us/step - loss: 0.3967 - accuracy: 0.8364 - precision: 0.7858 - recall: 0.7858\n",
      "Epoch 16/20\n",
      "170/170 [==============================] - 0s 983us/step - loss: 0.3966 - accuracy: 0.8362 - precision: 0.7847 - recall: 0.7847\n",
      "Epoch 17/20\n",
      "170/170 [==============================] - 0s 1ms/step - loss: 0.3966 - accuracy: 0.8364 - precision: 0.7854 - recall: 0.7854\n",
      "Epoch 18/20\n",
      "170/170 [==============================] - 0s 1ms/step - loss: 0.3966 - accuracy: 0.8364 - precision: 0.7838 - recall: 0.7838\n",
      "Epoch 19/20\n",
      "170/170 [==============================] - 0s 1ms/step - loss: 0.3966 - accuracy: 0.8359 - precision: 0.7859 - recall: 0.7859\n",
      "Epoch 20/20\n",
      "170/170 [==============================] - 0s 1ms/step - loss: 0.3966 - accuracy: 0.8359 - precision: 0.7832 - recall: 0.7832\n"
     ]
    },
    {
     "data": {
      "image/png": "[encoded data removed]",
      "text/plain": [
       "<Figure size 432x288 with 1 Axes>"
      ]
     },
     "metadata": {
      "needs_background": "light"
     },
     "output_type": "display_data"
    }
   ],
   "source": [
    "# The following variables are the hyperparameters.\n",
    "learning_rate = 0.001\n",
    "epochs = 20\n",
    "batch_size = 100\n",
    "classification_threshold = 0.52\n",
    "label_name = \"median_house_value_is_high\"\n",
    "\n",
    "# Modify the following definition of METRICS to generate\n",
    "# not only accuracy and precision, but also recall:\n",
    "METRICS = [\n",
    "      tf.keras.metrics.BinaryAccuracy(name='accuracy', threshold=classification_threshold),\n",
    "      tf.keras.metrics.Precision(thresholds=classification_threshold,name='precision'),\n",
    "      tf.keras.metrics.Precision(thresholds=classification_threshold,name='recall'),\n",
    "]\n",
    "\n",
    "# Establish the model's topography.\n",
    "my_model = create_model(learning_rate, feature_layer, METRICS)\n",
    "\n",
    "# Train the model on the training set.\n",
    "epochs, hist = train_model(my_model, train_df_norm, epochs, \n",
    "                           label_name, batch_size)\n",
    "\n",
    "# Plot metrics vs. epochs\n",
    "list_of_metrics_to_plot = ['accuracy', 'precision', 'recall'] \n",
    "plot_curve(epochs, hist, list_of_metrics_to_plot)"
   ]
  },
  {
   "cell_type": "markdown",
   "id": "95360ced-de89-4ea4-b8d7-b5ffcf09c66d",
   "metadata": {},
   "source": [
    "# Add AUC"
   ]
  },
  {
   "cell_type": "code",
   "execution_count": 21,
   "id": "1c6be5f3-bf67-4802-85c2-0099d96082a2",
   "metadata": {},
   "outputs": [
    {
     "name": "stdout",
     "output_type": "stream",
     "text": [
      "Epoch 1/20\n",
      "WARNING:tensorflow:Layers in a Sequential model should only have a single input tensor, but we receive a <class 'dict'> input: {'longitude': <tf.Tensor 'IteratorGetNext:3' shape=(100,) dtype=float32>, 'latitude': <tf.Tensor 'IteratorGetNext:2' shape=(100,) dtype=float32>, 'housing_median_age': <tf.Tensor 'IteratorGetNext:1' shape=(100,) dtype=float32>, 'total_rooms': <tf.Tensor 'IteratorGetNext:8' shape=(100,) dtype=float32>, 'total_bedrooms': <tf.Tensor 'IteratorGetNext:7' shape=(100,) dtype=float32>, 'population': <tf.Tensor 'IteratorGetNext:6' shape=(100,) dtype=float32>, 'households': <tf.Tensor 'IteratorGetNext:0' shape=(100,) dtype=float32>, 'median_income': <tf.Tensor 'IteratorGetNext:5' shape=(100,) dtype=float32>, 'median_house_value': <tf.Tensor 'IteratorGetNext:4' shape=(100,) dtype=float32>}\n",
      "Consider rewriting this model with the Functional API.\n"
     ]
    },
    {
     "name": "stderr",
     "output_type": "stream",
     "text": [
      "/Users/bangbui/anaconda3/envs/learn_py3/lib/python3.9/site-packages/keras/optimizer_v2/rmsprop.py:130: UserWarning: The `lr` argument is deprecated, use `learning_rate` instead.\n",
      "  super(RMSprop, self).__init__(name, **kwargs)\n"
     ]
    },
    {
     "name": "stdout",
     "output_type": "stream",
     "text": [
      "WARNING:tensorflow:Layers in a Sequential model should only have a single input tensor, but we receive a <class 'dict'> input: {'longitude': <tf.Tensor 'IteratorGetNext:3' shape=(100,) dtype=float32>, 'latitude': <tf.Tensor 'IteratorGetNext:2' shape=(100,) dtype=float32>, 'housing_median_age': <tf.Tensor 'IteratorGetNext:1' shape=(100,) dtype=float32>, 'total_rooms': <tf.Tensor 'IteratorGetNext:8' shape=(100,) dtype=float32>, 'total_bedrooms': <tf.Tensor 'IteratorGetNext:7' shape=(100,) dtype=float32>, 'population': <tf.Tensor 'IteratorGetNext:6' shape=(100,) dtype=float32>, 'households': <tf.Tensor 'IteratorGetNext:0' shape=(100,) dtype=float32>, 'median_income': <tf.Tensor 'IteratorGetNext:5' shape=(100,) dtype=float32>, 'median_house_value': <tf.Tensor 'IteratorGetNext:4' shape=(100,) dtype=float32>}\n",
      "Consider rewriting this model with the Functional API.\n",
      "170/170 [==============================] - 1s 882us/step - loss: 0.5798 - auc: 0.7836\n",
      "Epoch 2/20\n",
      "170/170 [==============================] - 0s 876us/step - loss: 0.5236 - auc: 0.8052\n",
      "Epoch 3/20\n",
      "170/170 [==============================] - 0s 1ms/step - loss: 0.4815 - auc: 0.8193\n",
      "Epoch 4/20\n",
      "170/170 [==============================] - 0s 1ms/step - loss: 0.4512 - auc: 0.8287\n",
      "Epoch 5/20\n",
      "170/170 [==============================] - 0s 1ms/step - loss: 0.4295 - auc: 0.8340\n",
      "Epoch 6/20\n",
      "170/170 [==============================] - 0s 943us/step - loss: 0.4152 - auc: 0.8363\n",
      "Epoch 7/20\n",
      "170/170 [==============================] - 0s 1ms/step - loss: 0.4064 - auc: 0.8366\n",
      "Epoch 8/20\n",
      "170/170 [==============================] - 0s 890us/step - loss: 0.4012 - auc: 0.8368\n",
      "Epoch 9/20\n",
      "170/170 [==============================] - 0s 1ms/step - loss: 0.3986 - auc: 0.8369\n",
      "Epoch 10/20\n",
      "170/170 [==============================] - 0s 1ms/step - loss: 0.3974 - auc: 0.8369\n",
      "Epoch 11/20\n",
      "170/170 [==============================] - 0s 1ms/step - loss: 0.3970 - auc: 0.8368\n",
      "Epoch 12/20\n",
      "170/170 [==============================] - 0s 1ms/step - loss: 0.3968 - auc: 0.8369\n",
      "Epoch 13/20\n",
      "170/170 [==============================] - 0s 979us/step - loss: 0.3967 - auc: 0.8367\n",
      "Epoch 14/20\n",
      "170/170 [==============================] - 0s 898us/step - loss: 0.3967 - auc: 0.8368\n",
      "Epoch 15/20\n",
      "170/170 [==============================] - 0s 993us/step - loss: 0.3966 - auc: 0.8369\n",
      "Epoch 16/20\n",
      "170/170 [==============================] - 0s 1ms/step - loss: 0.3966 - auc: 0.8369\n",
      "Epoch 17/20\n",
      "170/170 [==============================] - 0s 1ms/step - loss: 0.3966 - auc: 0.8369\n",
      "Epoch 18/20\n",
      "170/170 [==============================] - 0s 1ms/step - loss: 0.3966 - auc: 0.8369\n",
      "Epoch 19/20\n",
      "170/170 [==============================] - 0s 910us/step - loss: 0.3966 - auc: 0.8370\n",
      "Epoch 20/20\n",
      "170/170 [==============================] - 0s 955us/step - loss: 0.3966 - auc: 0.8368\n"
     ]
    },
    {
     "data": {
      "image/png": "[encoded data removed]",
      "text/plain": [
       "<Figure size 432x288 with 1 Axes>"
      ]
     },
     "metadata": {
      "needs_background": "light"
     },
     "output_type": "display_data"
    }
   ],
   "source": [
    "#@title Double-click to view the solution for Task 5.\n",
    "\n",
    "# The following variables are the hyperparameters.\n",
    "learning_rate = 0.001\n",
    "epochs = 20\n",
    "batch_size = 100\n",
    "label_name = \"median_house_value_is_high\"\n",
    "\n",
    "# AUC is a reasonable \"summary\" metric for \n",
    "# classification models.\n",
    "# Here is the updated definition of METRICS to \n",
    "# measure AUC:\n",
    "METRICS = [\n",
    "      tf.keras.metrics.AUC(num_thresholds=100, name='auc'),\n",
    "]\n",
    "\n",
    "# Establish the model's topography.\n",
    "my_model = create_model(learning_rate, feature_layer, METRICS)\n",
    "\n",
    "# Train the model on the training set.\n",
    "epochs, hist = train_model(my_model, train_df_norm, epochs, \n",
    "                           label_name, batch_size)\n",
    "\n",
    "# Plot metrics vs. epochs\n",
    "list_of_metrics_to_plot = ['auc'] \n",
    "plot_curve(epochs, hist, list_of_metrics_to_plot)"
   ]
  }
 ],
 "metadata": {
  "kernelspec": {
   "display_name": "py3_kernel",
   "language": "python",
   "name": "py3_kernel"
  },
  "language_info": {
   "codemirror_mode": {
    "name": "ipython",
    "version": 3
   },
   "file_extension": ".py",
   "mimetype": "text/x-python",
   "name": "python",
   "nbconvert_exporter": "python",
   "pygments_lexer": "ipython3",
   "version": "3.9.7"
  }
 },
 "nbformat": 4,
 "nbformat_minor": 5
}
